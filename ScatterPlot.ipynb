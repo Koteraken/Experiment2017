{
 "cells": [
  {
   "cell_type": "markdown",
   "metadata": {},
   "source": [
    "# 散布図\n",
    "\n",
    "<a href=\"DataForPractice2017.ipynb\">「合州国の州別暴力犯罪率」</a>を例に説明します。"
   ]
  },
  {
   "cell_type": "code",
   "execution_count": null,
   "metadata": {
    "collapsed": true
   },
   "outputs": [],
   "source": [
    "# 「#」（シャープ）以降の文字はプログラムに影響しません。\n",
    "# 図やグラフを図示するためのライブラリをインポートする。\n",
    "import matplotlib.pyplot as plt\n",
    "%matplotlib inline"
   ]
  },
  {
   "cell_type": "code",
   "execution_count": null,
   "metadata": {
    "collapsed": true
   },
   "outputs": [],
   "source": [
    "# データフレーム操作に関するライブラリをインポートする\n",
    "import pandas as pd\n",
    "from pandas.tools import plotting # 高度なプロットを行うツールのインポート"
   ]
  },
  {
   "cell_type": "code",
   "execution_count": null,
   "metadata": {
    "collapsed": true
   },
   "outputs": [],
   "source": [
    "# URL によるリソースへのアクセスを提供するライブラリをインポートする。\n",
    "# import urllib # Python 2 の場合\n",
    "import urllib.request # Python 3 の場合"
   ]
  },
  {
   "cell_type": "code",
   "execution_count": null,
   "metadata": {
    "collapsed": true
   },
   "outputs": [],
   "source": [
    "df2 = pd.read_csv('USArrests.txt', sep='\\t', index_col=0) # データの読み込み"
   ]
  },
  {
   "cell_type": "code",
   "execution_count": null,
   "metadata": {
    "collapsed": false
   },
   "outputs": [],
   "source": [
    "df2"
   ]
  },
  {
   "cell_type": "code",
   "execution_count": null,
   "metadata": {
    "collapsed": false
   },
   "outputs": [],
   "source": [
    "# 散布図を描く\n",
    "df2.plot(kind='scatter', x=df2.columns[2], y=df2.columns[0], grid=True)"
   ]
  },
  {
   "cell_type": "code",
   "execution_count": null,
   "metadata": {
    "collapsed": false
   },
   "outputs": [],
   "source": [
    "# 丸のサイズと色に意味をもたせた散布図を描く\n",
    "df2.plot(kind='scatter', x=df2.columns[2], y=df2.columns[0], grid=True, c=df2.iloc[:, 3], cmap='coolwarm', \n",
    "         s=df2.iloc[:, 1], alpha=0.5)"
   ]
  },
  {
   "cell_type": "code",
   "execution_count": null,
   "metadata": {
    "collapsed": false
   },
   "outputs": [],
   "source": [
    "# 丸のサイズと色に意味をもたせた散布図を描く（別法）\n",
    "\n",
    "names, name_label = df2.dropna().index, \"States\"\n",
    "x_axis, x_label = df2.dropna()[\"UrbanPop\"], \"UrbanPop\"\n",
    "y_axis, y_label = df2.dropna()[\"Murder\"], \"Murder\"\n",
    "sizes, size_label = df2.dropna()[\"Assault\"], \"Assault\" \n",
    "colors, color_label = df2.dropna()[\"Rape\"], \"Rape\"\n",
    "\n",
    "plt.figure(figsize=(15, 10))\n",
    "for x, y, name in zip(x_axis, y_axis, names):\n",
    "    plt.text(x, y, name, alpha=0.8, size=12)\n",
    "plt.scatter(x_axis, y_axis, s=sizes, c=colors, alpha=0.5, cmap='coolwarm')\n",
    "plt.colorbar(alpha=0.8)\n",
    "plt.title(\"x=%s, y=%s, size=%s, color=%s\" % (x_label, y_label, size_label, color_label))\n",
    "plt.xlabel(x_label, size=12)\n",
    "plt.ylabel(y_label, size=12)\n",
    "plt.grid()\n",
    "plt.show()"
   ]
  }
 ],
 "metadata": {
  "kernelspec": {
   "display_name": "Python 3",
   "language": "python",
   "name": "python3"
  },
  "language_info": {
   "codemirror_mode": {
    "name": "ipython",
    "version": 3
   },
   "file_extension": ".py",
   "mimetype": "text/x-python",
   "name": "python",
   "nbconvert_exporter": "python",
   "pygments_lexer": "ipython3",
   "version": "3.4.5"
  }
 },
 "nbformat": 4,
 "nbformat_minor": 2
}
