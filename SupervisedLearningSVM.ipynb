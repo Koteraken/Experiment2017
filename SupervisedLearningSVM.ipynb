{
 "cells": [
  {
   "cell_type": "markdown",
   "metadata": {},
   "source": [
    "# 教師あり学習（サポートベクトルマシン）\n",
    "* 本実習では、教師あり学習のうち、サポートベクトルマシン（SVM: Support Vector Machine）を使います。\n",
    "   * 機械学習とは→ [コンピューターに\"学習\"させる](http://image.slidesharecdn.com/deepvision-141031063609-conversion-gate01/95/deep-learning-4-638.jpg) \n",
    "   * [サポートベクターマシン](http://image.slidesharecdn.com/shen2007-120927221259-phpapp01/95/proteinprotein-interaction-prediction-8-728.jpg) ・ [サポートベクターマシンとは](http://qiita.com/pesuchin/items/c55f40b69aa1aec2bd19)"
   ]
  },
  {
   "cell_type": "code",
   "execution_count": 12,
   "metadata": {
    "collapsed": true
   },
   "outputs": [],
   "source": [
    "#（シャープ）以降の文字はプログラムに影響しません。\n",
    "# 図やグラフを図示するためのライブラリをインポートする。\n",
    "import matplotlib.pyplot as plt\n",
    "import matplotlib.ticker as ticker\n",
    "%matplotlib inline"
   ]
  },
  {
   "cell_type": "code",
   "execution_count": 13,
   "metadata": {
    "collapsed": true
   },
   "outputs": [],
   "source": [
    "# 数値計算やデータフレーム操作に関するライブラリをインポートする\n",
    "import numpy as np\n",
    "import pandas as pd\n",
    "from pandas.tools import plotting # 高度なプロットを行うツールのインポート"
   ]
  },
  {
   "cell_type": "code",
   "execution_count": 14,
   "metadata": {
    "collapsed": true
   },
   "outputs": [],
   "source": [
    "# URL によるリソースへのアクセスを提供するライブラリをインポートする。\n",
    "# import urllib # Python 2 の場合\n",
    "import urllib.request # Python 3 の場合"
   ]
  },
  {
   "cell_type": "code",
   "execution_count": 15,
   "metadata": {
    "collapsed": true
   },
   "outputs": [],
   "source": [
    "import sklearn #機械学習のライブラリ\n",
    "from sklearn.decomposition import PCA #主成分分析器"
   ]
  },
  {
   "cell_type": "markdown",
   "metadata": {},
   "source": [
    "## スイス銀行紙幣データ\n",
    "<a href=\"DataForPractice2017.ipynb\">「スイス銀行紙幣データ」</a>を例に説明します。これは、本物のスイス紙幣の紙幣（真札）と偽札の横幅長などの測定値のデータです。果たして、真札と偽札とを機械学習で区別できるでしょうか？"
   ]
  },
  {
   "cell_type": "markdown",
   "metadata": {},
   "source": [
    "まず、データの読み込みを行います。データの読み込みについて不明点がある場合は<a href=\"ReadingCSV.ipynb\" target=\"_blank\">タブ区切りデータ、コンマ区切りデータ等の読み込み</a>を復習してください。"
   ]
  },
  {
   "cell_type": "code",
   "execution_count": 16,
   "metadata": {
    "collapsed": false
   },
   "outputs": [
    {
     "data": {
      "text/plain": [
       "('sbnote_dataJt.txt', <http.client.HTTPMessage at 0x115c0e710>)"
      ]
     },
     "execution_count": 16,
     "metadata": {},
     "output_type": "execute_result"
    }
   ],
   "source": [
    "# ウェブ上のリソースを指定する\n",
    "url = 'https://raw.githubusercontent.com/maskot1977/ipython_notebook/master/toydata/sbnote_dataJt.txt'\n",
    "# 指定したURLからリソースをダウンロードし、名前をつける。\n",
    "# urllib.urlretrieve(url, 'sbnote_dataJt.txt') # Python 2 の場合\n",
    "urllib.request.urlretrieve(url, 'sbnote_dataJt.txt') # Python 3 の場合"
   ]
  },
  {
   "cell_type": "code",
   "execution_count": 17,
   "metadata": {
    "collapsed": true
   },
   "outputs": [],
   "source": [
    "df = pd.read_csv('sbnote_dataJt.txt', sep='\\t', index_col=0) # データの読み込み"
   ]
  },
  {
   "cell_type": "code",
   "execution_count": 18,
   "metadata": {
    "collapsed": false
   },
   "outputs": [
    {
     "data": {
      "text/html": [
       "<div>\n",
       "<table border=\"1\" class=\"dataframe\">\n",
       "  <thead>\n",
       "    <tr style=\"text-align: right;\">\n",
       "      <th></th>\n",
       "      <th>length</th>\n",
       "      <th>left</th>\n",
       "      <th>right</th>\n",
       "      <th>bottom</th>\n",
       "      <th>top</th>\n",
       "      <th>diagonal</th>\n",
       "      <th>class</th>\n",
       "    </tr>\n",
       "    <tr>\n",
       "      <th>Note</th>\n",
       "      <th></th>\n",
       "      <th></th>\n",
       "      <th></th>\n",
       "      <th></th>\n",
       "      <th></th>\n",
       "      <th></th>\n",
       "      <th></th>\n",
       "    </tr>\n",
       "  </thead>\n",
       "  <tbody>\n",
       "    <tr>\n",
       "      <th>1</th>\n",
       "      <td>214.8</td>\n",
       "      <td>131.0</td>\n",
       "      <td>131.1</td>\n",
       "      <td>9.0</td>\n",
       "      <td>9.7</td>\n",
       "      <td>141.0</td>\n",
       "      <td>0</td>\n",
       "    </tr>\n",
       "    <tr>\n",
       "      <th>2</th>\n",
       "      <td>214.6</td>\n",
       "      <td>129.7</td>\n",
       "      <td>129.7</td>\n",
       "      <td>8.1</td>\n",
       "      <td>9.5</td>\n",
       "      <td>141.7</td>\n",
       "      <td>0</td>\n",
       "    </tr>\n",
       "    <tr>\n",
       "      <th>3</th>\n",
       "      <td>214.8</td>\n",
       "      <td>129.7</td>\n",
       "      <td>129.7</td>\n",
       "      <td>8.7</td>\n",
       "      <td>9.6</td>\n",
       "      <td>142.2</td>\n",
       "      <td>0</td>\n",
       "    </tr>\n",
       "    <tr>\n",
       "      <th>4</th>\n",
       "      <td>214.8</td>\n",
       "      <td>129.7</td>\n",
       "      <td>129.6</td>\n",
       "      <td>7.5</td>\n",
       "      <td>10.4</td>\n",
       "      <td>142.0</td>\n",
       "      <td>0</td>\n",
       "    </tr>\n",
       "    <tr>\n",
       "      <th>5</th>\n",
       "      <td>215.0</td>\n",
       "      <td>129.6</td>\n",
       "      <td>129.7</td>\n",
       "      <td>10.4</td>\n",
       "      <td>7.7</td>\n",
       "      <td>141.8</td>\n",
       "      <td>0</td>\n",
       "    </tr>\n",
       "    <tr>\n",
       "      <th>6</th>\n",
       "      <td>215.7</td>\n",
       "      <td>130.8</td>\n",
       "      <td>130.5</td>\n",
       "      <td>9.0</td>\n",
       "      <td>10.1</td>\n",
       "      <td>141.4</td>\n",
       "      <td>0</td>\n",
       "    </tr>\n",
       "    <tr>\n",
       "      <th>7</th>\n",
       "      <td>215.5</td>\n",
       "      <td>129.5</td>\n",
       "      <td>129.7</td>\n",
       "      <td>7.9</td>\n",
       "      <td>9.6</td>\n",
       "      <td>141.6</td>\n",
       "      <td>0</td>\n",
       "    </tr>\n",
       "    <tr>\n",
       "      <th>8</th>\n",
       "      <td>214.5</td>\n",
       "      <td>129.6</td>\n",
       "      <td>129.2</td>\n",
       "      <td>7.2</td>\n",
       "      <td>10.7</td>\n",
       "      <td>141.7</td>\n",
       "      <td>0</td>\n",
       "    </tr>\n",
       "    <tr>\n",
       "      <th>9</th>\n",
       "      <td>214.9</td>\n",
       "      <td>129.4</td>\n",
       "      <td>129.7</td>\n",
       "      <td>8.2</td>\n",
       "      <td>11.0</td>\n",
       "      <td>141.9</td>\n",
       "      <td>0</td>\n",
       "    </tr>\n",
       "    <tr>\n",
       "      <th>10</th>\n",
       "      <td>215.2</td>\n",
       "      <td>130.4</td>\n",
       "      <td>130.3</td>\n",
       "      <td>9.2</td>\n",
       "      <td>10.0</td>\n",
       "      <td>140.7</td>\n",
       "      <td>0</td>\n",
       "    </tr>\n",
       "    <tr>\n",
       "      <th>11</th>\n",
       "      <td>215.3</td>\n",
       "      <td>130.4</td>\n",
       "      <td>130.3</td>\n",
       "      <td>7.9</td>\n",
       "      <td>11.7</td>\n",
       "      <td>141.8</td>\n",
       "      <td>0</td>\n",
       "    </tr>\n",
       "    <tr>\n",
       "      <th>12</th>\n",
       "      <td>215.1</td>\n",
       "      <td>129.5</td>\n",
       "      <td>129.6</td>\n",
       "      <td>7.7</td>\n",
       "      <td>10.5</td>\n",
       "      <td>142.2</td>\n",
       "      <td>0</td>\n",
       "    </tr>\n",
       "    <tr>\n",
       "      <th>13</th>\n",
       "      <td>215.2</td>\n",
       "      <td>130.8</td>\n",
       "      <td>129.6</td>\n",
       "      <td>7.9</td>\n",
       "      <td>10.8</td>\n",
       "      <td>141.4</td>\n",
       "      <td>0</td>\n",
       "    </tr>\n",
       "    <tr>\n",
       "      <th>14</th>\n",
       "      <td>214.7</td>\n",
       "      <td>129.7</td>\n",
       "      <td>129.7</td>\n",
       "      <td>7.7</td>\n",
       "      <td>10.9</td>\n",
       "      <td>141.7</td>\n",
       "      <td>0</td>\n",
       "    </tr>\n",
       "    <tr>\n",
       "      <th>15</th>\n",
       "      <td>215.1</td>\n",
       "      <td>129.9</td>\n",
       "      <td>129.7</td>\n",
       "      <td>7.7</td>\n",
       "      <td>10.8</td>\n",
       "      <td>141.8</td>\n",
       "      <td>0</td>\n",
       "    </tr>\n",
       "    <tr>\n",
       "      <th>16</th>\n",
       "      <td>214.5</td>\n",
       "      <td>129.8</td>\n",
       "      <td>129.8</td>\n",
       "      <td>9.3</td>\n",
       "      <td>8.5</td>\n",
       "      <td>141.6</td>\n",
       "      <td>0</td>\n",
       "    </tr>\n",
       "    <tr>\n",
       "      <th>17</th>\n",
       "      <td>214.6</td>\n",
       "      <td>129.9</td>\n",
       "      <td>130.1</td>\n",
       "      <td>8.2</td>\n",
       "      <td>9.8</td>\n",
       "      <td>141.7</td>\n",
       "      <td>0</td>\n",
       "    </tr>\n",
       "    <tr>\n",
       "      <th>18</th>\n",
       "      <td>215.0</td>\n",
       "      <td>129.9</td>\n",
       "      <td>129.7</td>\n",
       "      <td>9.0</td>\n",
       "      <td>9.0</td>\n",
       "      <td>141.9</td>\n",
       "      <td>0</td>\n",
       "    </tr>\n",
       "    <tr>\n",
       "      <th>19</th>\n",
       "      <td>215.2</td>\n",
       "      <td>129.6</td>\n",
       "      <td>129.6</td>\n",
       "      <td>7.4</td>\n",
       "      <td>11.5</td>\n",
       "      <td>141.5</td>\n",
       "      <td>0</td>\n",
       "    </tr>\n",
       "    <tr>\n",
       "      <th>20</th>\n",
       "      <td>214.7</td>\n",
       "      <td>130.2</td>\n",
       "      <td>129.9</td>\n",
       "      <td>8.6</td>\n",
       "      <td>10.0</td>\n",
       "      <td>141.9</td>\n",
       "      <td>0</td>\n",
       "    </tr>\n",
       "    <tr>\n",
       "      <th>21</th>\n",
       "      <td>215.0</td>\n",
       "      <td>129.9</td>\n",
       "      <td>129.3</td>\n",
       "      <td>8.4</td>\n",
       "      <td>10.0</td>\n",
       "      <td>141.4</td>\n",
       "      <td>0</td>\n",
       "    </tr>\n",
       "    <tr>\n",
       "      <th>22</th>\n",
       "      <td>215.6</td>\n",
       "      <td>130.5</td>\n",
       "      <td>130.0</td>\n",
       "      <td>8.1</td>\n",
       "      <td>10.3</td>\n",
       "      <td>141.6</td>\n",
       "      <td>0</td>\n",
       "    </tr>\n",
       "    <tr>\n",
       "      <th>23</th>\n",
       "      <td>215.3</td>\n",
       "      <td>130.6</td>\n",
       "      <td>130.0</td>\n",
       "      <td>8.4</td>\n",
       "      <td>10.8</td>\n",
       "      <td>141.5</td>\n",
       "      <td>0</td>\n",
       "    </tr>\n",
       "    <tr>\n",
       "      <th>24</th>\n",
       "      <td>215.7</td>\n",
       "      <td>130.2</td>\n",
       "      <td>130.0</td>\n",
       "      <td>8.7</td>\n",
       "      <td>10.0</td>\n",
       "      <td>141.6</td>\n",
       "      <td>0</td>\n",
       "    </tr>\n",
       "    <tr>\n",
       "      <th>25</th>\n",
       "      <td>215.1</td>\n",
       "      <td>129.7</td>\n",
       "      <td>129.9</td>\n",
       "      <td>7.4</td>\n",
       "      <td>10.8</td>\n",
       "      <td>141.1</td>\n",
       "      <td>0</td>\n",
       "    </tr>\n",
       "    <tr>\n",
       "      <th>26</th>\n",
       "      <td>215.3</td>\n",
       "      <td>130.4</td>\n",
       "      <td>130.4</td>\n",
       "      <td>8.0</td>\n",
       "      <td>11.0</td>\n",
       "      <td>142.3</td>\n",
       "      <td>0</td>\n",
       "    </tr>\n",
       "    <tr>\n",
       "      <th>27</th>\n",
       "      <td>215.5</td>\n",
       "      <td>130.2</td>\n",
       "      <td>130.1</td>\n",
       "      <td>8.9</td>\n",
       "      <td>9.8</td>\n",
       "      <td>142.4</td>\n",
       "      <td>0</td>\n",
       "    </tr>\n",
       "    <tr>\n",
       "      <th>28</th>\n",
       "      <td>215.1</td>\n",
       "      <td>130.3</td>\n",
       "      <td>130.3</td>\n",
       "      <td>9.8</td>\n",
       "      <td>9.5</td>\n",
       "      <td>141.9</td>\n",
       "      <td>0</td>\n",
       "    </tr>\n",
       "    <tr>\n",
       "      <th>29</th>\n",
       "      <td>215.1</td>\n",
       "      <td>130.0</td>\n",
       "      <td>130.0</td>\n",
       "      <td>7.4</td>\n",
       "      <td>10.5</td>\n",
       "      <td>141.8</td>\n",
       "      <td>0</td>\n",
       "    </tr>\n",
       "    <tr>\n",
       "      <th>30</th>\n",
       "      <td>214.8</td>\n",
       "      <td>129.7</td>\n",
       "      <td>129.3</td>\n",
       "      <td>8.3</td>\n",
       "      <td>9.0</td>\n",
       "      <td>142.0</td>\n",
       "      <td>0</td>\n",
       "    </tr>\n",
       "    <tr>\n",
       "      <th>...</th>\n",
       "      <td>...</td>\n",
       "      <td>...</td>\n",
       "      <td>...</td>\n",
       "      <td>...</td>\n",
       "      <td>...</td>\n",
       "      <td>...</td>\n",
       "      <td>...</td>\n",
       "    </tr>\n",
       "    <tr>\n",
       "      <th>171</th>\n",
       "      <td>213.9</td>\n",
       "      <td>130.7</td>\n",
       "      <td>130.5</td>\n",
       "      <td>8.7</td>\n",
       "      <td>11.5</td>\n",
       "      <td>137.8</td>\n",
       "      <td>1</td>\n",
       "    </tr>\n",
       "    <tr>\n",
       "      <th>172</th>\n",
       "      <td>214.2</td>\n",
       "      <td>130.6</td>\n",
       "      <td>130.4</td>\n",
       "      <td>12.0</td>\n",
       "      <td>10.2</td>\n",
       "      <td>139.6</td>\n",
       "      <td>1</td>\n",
       "    </tr>\n",
       "    <tr>\n",
       "      <th>173</th>\n",
       "      <td>214.8</td>\n",
       "      <td>130.5</td>\n",
       "      <td>130.3</td>\n",
       "      <td>11.8</td>\n",
       "      <td>10.5</td>\n",
       "      <td>139.4</td>\n",
       "      <td>1</td>\n",
       "    </tr>\n",
       "    <tr>\n",
       "      <th>174</th>\n",
       "      <td>214.8</td>\n",
       "      <td>129.6</td>\n",
       "      <td>130.0</td>\n",
       "      <td>10.4</td>\n",
       "      <td>11.6</td>\n",
       "      <td>139.2</td>\n",
       "      <td>1</td>\n",
       "    </tr>\n",
       "    <tr>\n",
       "      <th>175</th>\n",
       "      <td>214.8</td>\n",
       "      <td>130.1</td>\n",
       "      <td>130.0</td>\n",
       "      <td>11.4</td>\n",
       "      <td>10.5</td>\n",
       "      <td>139.6</td>\n",
       "      <td>1</td>\n",
       "    </tr>\n",
       "    <tr>\n",
       "      <th>176</th>\n",
       "      <td>214.9</td>\n",
       "      <td>130.4</td>\n",
       "      <td>130.2</td>\n",
       "      <td>11.9</td>\n",
       "      <td>10.7</td>\n",
       "      <td>139.0</td>\n",
       "      <td>1</td>\n",
       "    </tr>\n",
       "    <tr>\n",
       "      <th>177</th>\n",
       "      <td>214.3</td>\n",
       "      <td>130.1</td>\n",
       "      <td>130.1</td>\n",
       "      <td>11.6</td>\n",
       "      <td>10.5</td>\n",
       "      <td>139.7</td>\n",
       "      <td>1</td>\n",
       "    </tr>\n",
       "    <tr>\n",
       "      <th>178</th>\n",
       "      <td>214.5</td>\n",
       "      <td>130.4</td>\n",
       "      <td>130.0</td>\n",
       "      <td>9.9</td>\n",
       "      <td>12.0</td>\n",
       "      <td>139.6</td>\n",
       "      <td>1</td>\n",
       "    </tr>\n",
       "    <tr>\n",
       "      <th>179</th>\n",
       "      <td>214.8</td>\n",
       "      <td>130.5</td>\n",
       "      <td>130.3</td>\n",
       "      <td>10.2</td>\n",
       "      <td>12.1</td>\n",
       "      <td>139.1</td>\n",
       "      <td>1</td>\n",
       "    </tr>\n",
       "    <tr>\n",
       "      <th>180</th>\n",
       "      <td>214.5</td>\n",
       "      <td>130.2</td>\n",
       "      <td>130.4</td>\n",
       "      <td>8.2</td>\n",
       "      <td>11.8</td>\n",
       "      <td>137.8</td>\n",
       "      <td>1</td>\n",
       "    </tr>\n",
       "    <tr>\n",
       "      <th>181</th>\n",
       "      <td>215.0</td>\n",
       "      <td>130.4</td>\n",
       "      <td>130.1</td>\n",
       "      <td>11.4</td>\n",
       "      <td>10.7</td>\n",
       "      <td>139.1</td>\n",
       "      <td>1</td>\n",
       "    </tr>\n",
       "    <tr>\n",
       "      <th>182</th>\n",
       "      <td>214.8</td>\n",
       "      <td>130.6</td>\n",
       "      <td>130.6</td>\n",
       "      <td>8.0</td>\n",
       "      <td>11.4</td>\n",
       "      <td>138.7</td>\n",
       "      <td>1</td>\n",
       "    </tr>\n",
       "    <tr>\n",
       "      <th>183</th>\n",
       "      <td>215.0</td>\n",
       "      <td>130.5</td>\n",
       "      <td>130.1</td>\n",
       "      <td>11.0</td>\n",
       "      <td>11.4</td>\n",
       "      <td>139.3</td>\n",
       "      <td>1</td>\n",
       "    </tr>\n",
       "    <tr>\n",
       "      <th>184</th>\n",
       "      <td>214.6</td>\n",
       "      <td>130.5</td>\n",
       "      <td>130.4</td>\n",
       "      <td>10.1</td>\n",
       "      <td>11.4</td>\n",
       "      <td>139.3</td>\n",
       "      <td>1</td>\n",
       "    </tr>\n",
       "    <tr>\n",
       "      <th>185</th>\n",
       "      <td>214.7</td>\n",
       "      <td>130.2</td>\n",
       "      <td>130.1</td>\n",
       "      <td>10.7</td>\n",
       "      <td>11.1</td>\n",
       "      <td>139.5</td>\n",
       "      <td>1</td>\n",
       "    </tr>\n",
       "    <tr>\n",
       "      <th>186</th>\n",
       "      <td>214.7</td>\n",
       "      <td>130.4</td>\n",
       "      <td>130.0</td>\n",
       "      <td>11.5</td>\n",
       "      <td>10.7</td>\n",
       "      <td>139.4</td>\n",
       "      <td>1</td>\n",
       "    </tr>\n",
       "    <tr>\n",
       "      <th>187</th>\n",
       "      <td>214.5</td>\n",
       "      <td>130.4</td>\n",
       "      <td>130.0</td>\n",
       "      <td>8.0</td>\n",
       "      <td>12.2</td>\n",
       "      <td>138.5</td>\n",
       "      <td>1</td>\n",
       "    </tr>\n",
       "    <tr>\n",
       "      <th>188</th>\n",
       "      <td>214.8</td>\n",
       "      <td>130.0</td>\n",
       "      <td>129.7</td>\n",
       "      <td>11.4</td>\n",
       "      <td>10.6</td>\n",
       "      <td>139.2</td>\n",
       "      <td>1</td>\n",
       "    </tr>\n",
       "    <tr>\n",
       "      <th>189</th>\n",
       "      <td>214.8</td>\n",
       "      <td>129.9</td>\n",
       "      <td>130.2</td>\n",
       "      <td>9.6</td>\n",
       "      <td>11.9</td>\n",
       "      <td>139.4</td>\n",
       "      <td>1</td>\n",
       "    </tr>\n",
       "    <tr>\n",
       "      <th>190</th>\n",
       "      <td>214.6</td>\n",
       "      <td>130.3</td>\n",
       "      <td>130.2</td>\n",
       "      <td>12.7</td>\n",
       "      <td>9.1</td>\n",
       "      <td>139.2</td>\n",
       "      <td>1</td>\n",
       "    </tr>\n",
       "    <tr>\n",
       "      <th>191</th>\n",
       "      <td>215.1</td>\n",
       "      <td>130.2</td>\n",
       "      <td>129.8</td>\n",
       "      <td>10.2</td>\n",
       "      <td>12.0</td>\n",
       "      <td>139.4</td>\n",
       "      <td>1</td>\n",
       "    </tr>\n",
       "    <tr>\n",
       "      <th>192</th>\n",
       "      <td>215.4</td>\n",
       "      <td>130.5</td>\n",
       "      <td>130.6</td>\n",
       "      <td>8.8</td>\n",
       "      <td>11.0</td>\n",
       "      <td>138.6</td>\n",
       "      <td>1</td>\n",
       "    </tr>\n",
       "    <tr>\n",
       "      <th>193</th>\n",
       "      <td>214.7</td>\n",
       "      <td>130.3</td>\n",
       "      <td>130.2</td>\n",
       "      <td>10.8</td>\n",
       "      <td>11.1</td>\n",
       "      <td>139.2</td>\n",
       "      <td>1</td>\n",
       "    </tr>\n",
       "    <tr>\n",
       "      <th>194</th>\n",
       "      <td>215.0</td>\n",
       "      <td>130.5</td>\n",
       "      <td>130.3</td>\n",
       "      <td>9.6</td>\n",
       "      <td>11.0</td>\n",
       "      <td>138.5</td>\n",
       "      <td>1</td>\n",
       "    </tr>\n",
       "    <tr>\n",
       "      <th>195</th>\n",
       "      <td>214.9</td>\n",
       "      <td>130.3</td>\n",
       "      <td>130.5</td>\n",
       "      <td>11.6</td>\n",
       "      <td>10.6</td>\n",
       "      <td>139.8</td>\n",
       "      <td>1</td>\n",
       "    </tr>\n",
       "    <tr>\n",
       "      <th>196</th>\n",
       "      <td>215.0</td>\n",
       "      <td>130.4</td>\n",
       "      <td>130.3</td>\n",
       "      <td>9.9</td>\n",
       "      <td>12.1</td>\n",
       "      <td>139.6</td>\n",
       "      <td>1</td>\n",
       "    </tr>\n",
       "    <tr>\n",
       "      <th>197</th>\n",
       "      <td>215.1</td>\n",
       "      <td>130.3</td>\n",
       "      <td>129.9</td>\n",
       "      <td>10.3</td>\n",
       "      <td>11.5</td>\n",
       "      <td>139.7</td>\n",
       "      <td>1</td>\n",
       "    </tr>\n",
       "    <tr>\n",
       "      <th>198</th>\n",
       "      <td>214.8</td>\n",
       "      <td>130.3</td>\n",
       "      <td>130.4</td>\n",
       "      <td>10.6</td>\n",
       "      <td>11.1</td>\n",
       "      <td>140.0</td>\n",
       "      <td>1</td>\n",
       "    </tr>\n",
       "    <tr>\n",
       "      <th>199</th>\n",
       "      <td>214.7</td>\n",
       "      <td>130.7</td>\n",
       "      <td>130.8</td>\n",
       "      <td>11.2</td>\n",
       "      <td>11.2</td>\n",
       "      <td>139.4</td>\n",
       "      <td>1</td>\n",
       "    </tr>\n",
       "    <tr>\n",
       "      <th>200</th>\n",
       "      <td>214.3</td>\n",
       "      <td>129.9</td>\n",
       "      <td>129.9</td>\n",
       "      <td>10.2</td>\n",
       "      <td>11.5</td>\n",
       "      <td>139.6</td>\n",
       "      <td>1</td>\n",
       "    </tr>\n",
       "  </tbody>\n",
       "</table>\n",
       "<p>200 rows × 7 columns</p>\n",
       "</div>"
      ],
      "text/plain": [
       "      length   left  right  bottom   top  diagonal  class\n",
       "Note                                                     \n",
       "1      214.8  131.0  131.1     9.0   9.7     141.0      0\n",
       "2      214.6  129.7  129.7     8.1   9.5     141.7      0\n",
       "3      214.8  129.7  129.7     8.7   9.6     142.2      0\n",
       "4      214.8  129.7  129.6     7.5  10.4     142.0      0\n",
       "5      215.0  129.6  129.7    10.4   7.7     141.8      0\n",
       "6      215.7  130.8  130.5     9.0  10.1     141.4      0\n",
       "7      215.5  129.5  129.7     7.9   9.6     141.6      0\n",
       "8      214.5  129.6  129.2     7.2  10.7     141.7      0\n",
       "9      214.9  129.4  129.7     8.2  11.0     141.9      0\n",
       "10     215.2  130.4  130.3     9.2  10.0     140.7      0\n",
       "11     215.3  130.4  130.3     7.9  11.7     141.8      0\n",
       "12     215.1  129.5  129.6     7.7  10.5     142.2      0\n",
       "13     215.2  130.8  129.6     7.9  10.8     141.4      0\n",
       "14     214.7  129.7  129.7     7.7  10.9     141.7      0\n",
       "15     215.1  129.9  129.7     7.7  10.8     141.8      0\n",
       "16     214.5  129.8  129.8     9.3   8.5     141.6      0\n",
       "17     214.6  129.9  130.1     8.2   9.8     141.7      0\n",
       "18     215.0  129.9  129.7     9.0   9.0     141.9      0\n",
       "19     215.2  129.6  129.6     7.4  11.5     141.5      0\n",
       "20     214.7  130.2  129.9     8.6  10.0     141.9      0\n",
       "21     215.0  129.9  129.3     8.4  10.0     141.4      0\n",
       "22     215.6  130.5  130.0     8.1  10.3     141.6      0\n",
       "23     215.3  130.6  130.0     8.4  10.8     141.5      0\n",
       "24     215.7  130.2  130.0     8.7  10.0     141.6      0\n",
       "25     215.1  129.7  129.9     7.4  10.8     141.1      0\n",
       "26     215.3  130.4  130.4     8.0  11.0     142.3      0\n",
       "27     215.5  130.2  130.1     8.9   9.8     142.4      0\n",
       "28     215.1  130.3  130.3     9.8   9.5     141.9      0\n",
       "29     215.1  130.0  130.0     7.4  10.5     141.8      0\n",
       "30     214.8  129.7  129.3     8.3   9.0     142.0      0\n",
       "...      ...    ...    ...     ...   ...       ...    ...\n",
       "171    213.9  130.7  130.5     8.7  11.5     137.8      1\n",
       "172    214.2  130.6  130.4    12.0  10.2     139.6      1\n",
       "173    214.8  130.5  130.3    11.8  10.5     139.4      1\n",
       "174    214.8  129.6  130.0    10.4  11.6     139.2      1\n",
       "175    214.8  130.1  130.0    11.4  10.5     139.6      1\n",
       "176    214.9  130.4  130.2    11.9  10.7     139.0      1\n",
       "177    214.3  130.1  130.1    11.6  10.5     139.7      1\n",
       "178    214.5  130.4  130.0     9.9  12.0     139.6      1\n",
       "179    214.8  130.5  130.3    10.2  12.1     139.1      1\n",
       "180    214.5  130.2  130.4     8.2  11.8     137.8      1\n",
       "181    215.0  130.4  130.1    11.4  10.7     139.1      1\n",
       "182    214.8  130.6  130.6     8.0  11.4     138.7      1\n",
       "183    215.0  130.5  130.1    11.0  11.4     139.3      1\n",
       "184    214.6  130.5  130.4    10.1  11.4     139.3      1\n",
       "185    214.7  130.2  130.1    10.7  11.1     139.5      1\n",
       "186    214.7  130.4  130.0    11.5  10.7     139.4      1\n",
       "187    214.5  130.4  130.0     8.0  12.2     138.5      1\n",
       "188    214.8  130.0  129.7    11.4  10.6     139.2      1\n",
       "189    214.8  129.9  130.2     9.6  11.9     139.4      1\n",
       "190    214.6  130.3  130.2    12.7   9.1     139.2      1\n",
       "191    215.1  130.2  129.8    10.2  12.0     139.4      1\n",
       "192    215.4  130.5  130.6     8.8  11.0     138.6      1\n",
       "193    214.7  130.3  130.2    10.8  11.1     139.2      1\n",
       "194    215.0  130.5  130.3     9.6  11.0     138.5      1\n",
       "195    214.9  130.3  130.5    11.6  10.6     139.8      1\n",
       "196    215.0  130.4  130.3     9.9  12.1     139.6      1\n",
       "197    215.1  130.3  129.9    10.3  11.5     139.7      1\n",
       "198    214.8  130.3  130.4    10.6  11.1     140.0      1\n",
       "199    214.7  130.7  130.8    11.2  11.2     139.4      1\n",
       "200    214.3  129.9  129.9    10.2  11.5     139.6      1\n",
       "\n",
       "[200 rows x 7 columns]"
      ]
     },
     "execution_count": 18,
     "metadata": {},
     "output_type": "execute_result"
    }
   ],
   "source": [
    "df"
   ]
  },
  {
   "cell_type": "markdown",
   "metadata": {},
   "source": [
    "\"class\" が札の真偽を表します(0: 真札, 1:偽札)"
   ]
  },
  {
   "cell_type": "markdown",
   "metadata": {},
   "source": [
    "次に、散布図行列を作成して変数間の関係を眺めます。散布図行列について不明点がある場合は<a href=\"ScatterMatrix.ipynb\" target=\"_blank\">散布図行列</a>を復習してください。"
   ]
  },
  {
   "cell_type": "code",
   "execution_count": 19,
   "metadata": {
    "collapsed": false
   },
   "outputs": [
    {
     "data": {
      "image/png": "[encoded data removed]",
      "text/plain": [
       "<matplotlib.figure.Figure at 0x115be1fd0>"
      ]
     },
     "metadata": {},
     "output_type": "display_data"
    }
   ],
   "source": [
    "# 散布図行列\n",
    "plotting.scatter_matrix(df[list(df.columns[:-1])], figsize=(10, 10)) \n",
    "plt.show()"
   ]
  },
  {
   "cell_type": "markdown",
   "metadata": {},
   "source": [
    "上図から、なんとなく２つのグループに分かれそうだということが分かりますね。そのグループは、真札・偽札の違いと対応しているのでしょうか？それを確認するため、カラーコードを用いて、\"class\"に基づいて散布図行列を色分けします。\n",
    "* カラーコードが分からない人は右記リンク参照→ [カラーコード表](http://www5.plala.or.jp/vaio0630/hp/c_code.htm)・[カラーコード](http://www.finitojapan.com/cltable.html)"
   ]
  },
  {
   "cell_type": "code",
   "execution_count": 20,
   "metadata": {
    "collapsed": false
   },
   "outputs": [
    {
     "ename": "ValueError",
     "evalue": "Supply a 'c' kwarg or a 'color' kwarg but not both; they differ but their functionalities overlap.",
     "output_type": "error",
     "traceback": [
      "\u001b[0;31m---------------------------------------------------------------------------\u001b[0m",
      "\u001b[0;31mValueError\u001b[0m                                Traceback (most recent call last)",
      "\u001b[0;32m<ipython-input-20-5a3803f256ba>\u001b[0m in \u001b[0;36m<module>\u001b[0;34m()\u001b[0m\n\u001b[1;32m      3\u001b[0m \u001b[0mclass_names\u001b[0m \u001b[0;34m=\u001b[0m \u001b[0mlist\u001b[0m\u001b[0;34m(\u001b[0m\u001b[0mset\u001b[0m\u001b[0;34m(\u001b[0m\u001b[0mdf\u001b[0m\u001b[0;34m.\u001b[0m\u001b[0miloc\u001b[0m\u001b[0;34m[\u001b[0m\u001b[0;34m:\u001b[0m\u001b[0;34m,\u001b[0m \u001b[0;34m-\u001b[0m\u001b[0;36m1\u001b[0m\u001b[0;34m]\u001b[0m\u001b[0;34m)\u001b[0m\u001b[0;34m)\u001b[0m\u001b[0;34m\u001b[0m\u001b[0m\n\u001b[1;32m      4\u001b[0m \u001b[0mcolors\u001b[0m \u001b[0;34m=\u001b[0m \u001b[0;34m[\u001b[0m\u001b[0mcolor_codes\u001b[0m\u001b[0;34m[\u001b[0m\u001b[0mclass_names\u001b[0m\u001b[0;34m.\u001b[0m\u001b[0mindex\u001b[0m\u001b[0;34m(\u001b[0m\u001b[0mx\u001b[0m\u001b[0;34m)\u001b[0m\u001b[0;34m]\u001b[0m \u001b[0;32mfor\u001b[0m \u001b[0mx\u001b[0m \u001b[0;32min\u001b[0m \u001b[0mlist\u001b[0m\u001b[0;34m(\u001b[0m\u001b[0mdf\u001b[0m\u001b[0;34m.\u001b[0m\u001b[0miloc\u001b[0m\u001b[0;34m[\u001b[0m\u001b[0;34m:\u001b[0m\u001b[0;34m,\u001b[0m \u001b[0;34m-\u001b[0m\u001b[0;36m1\u001b[0m\u001b[0;34m]\u001b[0m\u001b[0;34m)\u001b[0m\u001b[0;34m]\u001b[0m\u001b[0;34m\u001b[0m\u001b[0m\n\u001b[0;32m----> 5\u001b[0;31m \u001b[0mplotting\u001b[0m\u001b[0;34m.\u001b[0m\u001b[0mscatter_matrix\u001b[0m\u001b[0;34m(\u001b[0m\u001b[0mdf\u001b[0m\u001b[0;34m[\u001b[0m\u001b[0mlist\u001b[0m\u001b[0;34m(\u001b[0m\u001b[0mdf\u001b[0m\u001b[0;34m.\u001b[0m\u001b[0mcolumns\u001b[0m\u001b[0;34m[\u001b[0m\u001b[0;34m:\u001b[0m\u001b[0;36m6\u001b[0m\u001b[0;34m]\u001b[0m\u001b[0;34m)\u001b[0m\u001b[0;34m]\u001b[0m\u001b[0;34m,\u001b[0m \u001b[0mfigsize\u001b[0m\u001b[0;34m=\u001b[0m\u001b[0;34m(\u001b[0m\u001b[0;36m10\u001b[0m\u001b[0;34m,\u001b[0m \u001b[0;36m10\u001b[0m\u001b[0;34m)\u001b[0m\u001b[0;34m,\u001b[0m \u001b[0mcolor\u001b[0m\u001b[0;34m=\u001b[0m\u001b[0mcolors\u001b[0m\u001b[0;34m)\u001b[0m\u001b[0;34m\u001b[0m\u001b[0m\n\u001b[0m\u001b[1;32m      6\u001b[0m \u001b[0mplt\u001b[0m\u001b[0;34m.\u001b[0m\u001b[0mshow\u001b[0m\u001b[0;34m(\u001b[0m\u001b[0;34m)\u001b[0m\u001b[0;34m\u001b[0m\u001b[0m\n",
      "\u001b[0;32m/Users/sue_charo/.pyenv/versions/anaconda3-4.3.1/lib/python3.6/site-packages/pandas/tools/plotting.py\u001b[0m in \u001b[0;36mscatter_matrix\u001b[0;34m(frame, alpha, figsize, ax, grid, diagonal, marker, density_kwds, hist_kwds, range_padding, **kwds)\u001b[0m\n\u001b[1;32m    393\u001b[0m \u001b[0;34m\u001b[0m\u001b[0m\n\u001b[1;32m    394\u001b[0m                 ax.scatter(df[b][common], df[a][common],\n\u001b[0;32m--> 395\u001b[0;31m                            marker=marker, alpha=alpha, **kwds)\n\u001b[0m\u001b[1;32m    396\u001b[0m \u001b[0;34m\u001b[0m\u001b[0m\n\u001b[1;32m    397\u001b[0m                 \u001b[0max\u001b[0m\u001b[0;34m.\u001b[0m\u001b[0mset_xlim\u001b[0m\u001b[0;34m(\u001b[0m\u001b[0mboundaries_list\u001b[0m\u001b[0;34m[\u001b[0m\u001b[0mj\u001b[0m\u001b[0;34m]\u001b[0m\u001b[0;34m)\u001b[0m\u001b[0;34m\u001b[0m\u001b[0m\n",
      "\u001b[0;32m/Users/sue_charo/.pyenv/versions/anaconda3-4.3.1/lib/python3.6/site-packages/matplotlib/__init__.py\u001b[0m in \u001b[0;36minner\u001b[0;34m(ax, *args, **kwargs)\u001b[0m\n\u001b[1;32m   1890\u001b[0m                     warnings.warn(msg % (label_namer, func.__name__),\n\u001b[1;32m   1891\u001b[0m                                   RuntimeWarning, stacklevel=2)\n\u001b[0;32m-> 1892\u001b[0;31m             \u001b[0;32mreturn\u001b[0m \u001b[0mfunc\u001b[0m\u001b[0;34m(\u001b[0m\u001b[0max\u001b[0m\u001b[0;34m,\u001b[0m \u001b[0;34m*\u001b[0m\u001b[0margs\u001b[0m\u001b[0;34m,\u001b[0m \u001b[0;34m**\u001b[0m\u001b[0mkwargs\u001b[0m\u001b[0;34m)\u001b[0m\u001b[0;34m\u001b[0m\u001b[0m\n\u001b[0m\u001b[1;32m   1893\u001b[0m         \u001b[0mpre_doc\u001b[0m \u001b[0;34m=\u001b[0m \u001b[0minner\u001b[0m\u001b[0;34m.\u001b[0m\u001b[0m__doc__\u001b[0m\u001b[0;34m\u001b[0m\u001b[0m\n\u001b[1;32m   1894\u001b[0m         \u001b[0;32mif\u001b[0m \u001b[0mpre_doc\u001b[0m \u001b[0;32mis\u001b[0m \u001b[0;32mNone\u001b[0m\u001b[0;34m:\u001b[0m\u001b[0;34m\u001b[0m\u001b[0m\n",
      "\u001b[0;32m/Users/sue_charo/.pyenv/versions/anaconda3-4.3.1/lib/python3.6/site-packages/matplotlib/axes/_axes.py\u001b[0m in \u001b[0;36mscatter\u001b[0;34m(self, x, y, s, c, marker, cmap, norm, vmin, vmax, alpha, linewidths, verts, edgecolors, **kwargs)\u001b[0m\n\u001b[1;32m   3929\u001b[0m                 \u001b[0mfacecolors\u001b[0m \u001b[0;34m=\u001b[0m \u001b[0mco\u001b[0m\u001b[0;34m\u001b[0m\u001b[0m\n\u001b[1;32m   3930\u001b[0m             \u001b[0;32mif\u001b[0m \u001b[0mc\u001b[0m \u001b[0;32mis\u001b[0m \u001b[0;32mnot\u001b[0m \u001b[0;32mNone\u001b[0m\u001b[0;34m:\u001b[0m\u001b[0;34m\u001b[0m\u001b[0m\n\u001b[0;32m-> 3931\u001b[0;31m                 raise ValueError(\"Supply a 'c' kwarg or a 'color' kwarg\"\n\u001b[0m\u001b[1;32m   3932\u001b[0m                                  \u001b[0;34m\" but not both; they differ but\"\u001b[0m\u001b[0;34m\u001b[0m\u001b[0m\n\u001b[1;32m   3933\u001b[0m                                  \" their functionalities overlap.\")\n",
      "\u001b[0;31mValueError\u001b[0m: Supply a 'c' kwarg or a 'color' kwarg but not both; they differ but their functionalities overlap."
     ]
    },
    {
     "data": {
      "image/png": "[encoded data removed]",
      "text/plain": [
       "<matplotlib.figure.Figure at 0x1143d9dd8>"
      ]
     },
     "metadata": {},
     "output_type": "display_data"
    }
   ],
   "source": [
    "# 色分けした散布図行列\n",
    "color_codes = [\"#FF0000\", \"#0000FF\", \"#00FF00\"]\n",
    "class_names = list(set(df.iloc[:, -1]))\n",
    "colors = [color_codes[class_names.index(x)] for x in list(df.iloc[:, -1])]\n",
    "plotting.scatter_matrix(df[list(df.columns[:6])], figsize=(10, 10), color=colors) \n",
    "plt.show()"
   ]
  },
  {
   "cell_type": "markdown",
   "metadata": {},
   "source": [
    "上の散布図行列から、真札と偽札は特徴の異なる２つのグループに分けられそうだと分かります。どのようにすれば分けられるでしょうか？\n",
    "* __変数を１つだけ用いて分ける__\n",
    "    * 変数「length」を単独で用いただけでは、真札と偽札の区別は難しそうです。\n",
    "    * 変数「diagonal」を使えば、それ単独でも真札と偽札の区別はけっこう高い精度でできそうです。\n",
    "* __変数を２つ組み合わせて用いる__\n",
    "    * 変数「top」と「length」のプロットから、これら２つの変数の組み合わせだけから真札と偽札の区別は難しそうです。\n",
    "    * 変数「top」単独では真札と偽札の区別は難しそうですが、「top」と「bottom」を組み合わせることで、真札と偽札の区別ができそうです。"
   ]
  },
  {
   "cell_type": "markdown",
   "metadata": {},
   "source": [
    "それでは、もっと多くの変数を組み合わせればどうなるでしょうか？それを見るために、主成分分析をしてみましょう。主成分分析について不明点がある場合は<a href=\"PCA2017.ipynb\" target=\"_blank\">主成分分析</a>を復習してください。"
   ]
  },
  {
   "cell_type": "code",
   "execution_count": null,
   "metadata": {
    "collapsed": true
   },
   "outputs": [],
   "source": [
    "# 行列の正規化\n",
    "dfs = df.iloc[:, :-1].apply(lambda x: (x-x.mean())/x.std(), axis=0).fillna(0)"
   ]
  },
  {
   "cell_type": "code",
   "execution_count": null,
   "metadata": {
    "collapsed": false
   },
   "outputs": [],
   "source": [
    "#主成分分析の実行\n",
    "pca = PCA()\n",
    "pca.fit(dfs.iloc[:, :])\n",
    "# データを主成分空間に写像 = 次元圧縮\n",
    "feature = pca.transform(dfs.iloc[:, :])\n",
    "# 第一主成分と第二主成分でプロットする\n",
    "plt.figure(figsize=(8, 8))\n",
    "for x, y, name in zip(feature[:, 0], feature[:, 1], dfs.index):\n",
    "    plt.text(x, y, name, alpha=0.5, size=10)\n",
    "plt.scatter(feature[:, 0], feature[:, 1], alpha=0.8)\n",
    "plt.grid()\n",
    "plt.show()"
   ]
  },
  {
   "cell_type": "markdown",
   "metadata": {},
   "source": [
    "上の主成分分析の結果を見ても、大きく２つのグループに分かれることがわかりました。これらのグループは真札と偽札とに対応してるのでしょうか？色分けをして確認してみましょう。"
   ]
  },
  {
   "cell_type": "code",
   "execution_count": null,
   "metadata": {
    "collapsed": false,
    "scrolled": false
   },
   "outputs": [],
   "source": [
    "color_codes = [\"#FF0000\", \"#0000FF\", \"#00FF00\"]\n",
    "class_names = list(set(df.iloc[:, -1]))\n",
    "colors = [color_codes[class_names.index(x)] for x in list(df.iloc[:, -1])]\n",
    "#主成分分析の実行\n",
    "pca = PCA()\n",
    "pca.fit(dfs.iloc[:, :])\n",
    "# データを主成分空間に写像 = 次元圧縮\n",
    "feature = pca.transform(dfs.iloc[:, :])\n",
    "# 第一主成分と第二主成分でプロットする\n",
    "plt.figure(figsize=(8, 8))\n",
    "for x, y, name in zip(feature[:, 0], feature[:, 1], dfs.index):\n",
    "    plt.text(x, y, name, alpha=0.5, size=10)\n",
    "plt.scatter(feature[:, 0], feature[:, 1], alpha=0.8, c=colors)\n",
    "plt.grid()\n",
    "plt.show()"
   ]
  },
  {
   "cell_type": "markdown",
   "metadata": {},
   "source": [
    "これまでの解析で、真札と偽札ははっきりとした特徴の違いのある２つのグループに分かれることが分かりました。では次に、これを自動的に区別するための機械学習モデルを作りましょう。"
   ]
  },
  {
   "cell_type": "markdown",
   "metadata": {},
   "source": [
    "### データの整形\n",
    "Nをサンプル数（ここでは、お札の数）、Mを特徴量の数（ここでは、横幅長などの測定値の種類の数）とする。\n",
    "\n",
    "* __feature_names__ : 特徴量の名前（M次元のベクトル。ここでは、「横幅長」など。）\n",
    "* __target_names__ : 目的変数の名前（目的となるグループの名前。ここでは「真札」と「偽札」。）\n",
    "* __sample_names__ : サンプルの名前（N次元のベクトル。ここでは、お札のID番号。）\n",
    "* __data__ : 説明変数（N行M列の行列。ここでは、それぞれのお札の横幅長などの測定値。）\n",
    "* __target__ : 目的変数（N次元のベクトル。ここでは、それぞれのお札が真札か偽札かを表す。）\n",
    "\n",
    "ここでの機械学習の目的は、__data__から__target__を予測する問題を解くことである。"
   ]
  },
  {
   "cell_type": "markdown",
   "metadata": {},
   "source": [
    "先ほど読み込んだデータを、上記の形式に合わせてPandasを用いて整形します。不明点がある場合は<a href=\"UsingNumpyAndPandas.ipynb\" target=\"_blank\">Numpy と Pandas を用いた演算</a>を復習してください。"
   ]
  },
  {
   "cell_type": "code",
   "execution_count": null,
   "metadata": {
    "collapsed": true
   },
   "outputs": [],
   "source": [
    "feature_names = df.columns[:-1]\n",
    "target_names = list(set(df.iloc[:, -1]))\n",
    "sample_names = df.index\n",
    "data = df.iloc[:, :-1]\n",
    "target = df.iloc[:, -1]"
   ]
  },
  {
   "cell_type": "markdown",
   "metadata": {},
   "source": [
    "### データの分割\n",
    "交差検定をするため、データを学習用とテスト用に分割します。\n",
    "* __train_data__ :  説明変数（学習用）\n",
    "* __test_data__ : 説明変数（テスト用）\n",
    "* __train_target__ : 目的変数（学習用）\n",
    "* __test_target__ :  目的変数（テスト用）\n",
    "\n",
    "交差検定 (cross-validation) とは → [交差検定](http://image.slidesharecdn.com/scikit-learn-141201042924-conversion-gate01/95/scikit-learn-15-638.jpg)\n",
    "* 現在取得できているデータを「学習用セット」と「テスト用（評価用）セット」に分け、「学習用セット」だけを使って予測モデルを構築し、「テスト用セット」を使ってモデルの性能を評価します。"
   ]
  },
  {
   "cell_type": "code",
   "execution_count": null,
   "metadata": {
    "collapsed": false
   },
   "outputs": [],
   "source": [
    "from sklearn import model_selection as ms\n",
    "train_data, test_data, train_target, test_target = ms.train_test_split(data, target, test_size=0.5)"
   ]
  },
  {
   "cell_type": "markdown",
   "metadata": {},
   "source": [
    "train_test_splitを用いると、dataとtargetの対応関係を保った上で、シャッフル（サンプルの順番をランダムに入れかえ）し、学習セットと評価セットに分割できます。\n",
    "\n",
    "上記で、test_size=0.5 とすると、train:test = 5:5 になります。つまり、半分のデータだけを使って学習して予測モデルを構築し、その予測モデルを用いて残り半分のデータを予測し、答えあわせをして、構築した予測モデルの性能を評価することになります。\n",
    "\n",
    "仮に test_size=0.2 に変更すると、train:test = 8:2 になります。つまり、80%のデータを使って学習して予測モデルを構築し、その予測モデルを用いて残り20%のデータを予測し、答えあわせをして、構築した予測モデルの性能を評価することになります。\n",
    "\n",
    "どちらのほうが予測性能が高くなるでしょうか？見かけ上、後者です。test_sizeを小さくすればするほど、見かけ上の予測性能が向上します。ところがそのような予測モデルは、与えられた学習用セットだけに過剰に適合し、汎化能力に欠ける予測モデルになる可能性があります（そのような状態を「過剰適合」または「過学習」「オーバーフィッティング」と言います）。\n",
    "\n",
    "では、test_sizeは大きいほうが良いのでしょうか？大きくし過ぎると、学習データが小さくなります。そのため性能が落ちたり、場合によっては、あるtarget_nameを持つサンプルの数が少なくなりすぎてそのtarget_nameの予測ができなくなったりします。\n",
    "\n",
    "test_sizeをどのくらいにするのが最適か、データの中身を見ながらケースバイケースで決める必要があります。"
   ]
  },
  {
   "cell_type": "markdown",
   "metadata": {},
   "source": [
    "念のため、分割したデータの中身を確認しましょう。train_dataとtest_dataで、順番がきちんとシャッフルされていて、どちらも意図した通りのデータサイズになっていること（たとえばtest_size=0.5としたならtrain_dataとtest_dataのサイズが1:1になっていること）を確認してください。"
   ]
  },
  {
   "cell_type": "code",
   "execution_count": null,
   "metadata": {
    "collapsed": false
   },
   "outputs": [],
   "source": [
    "# 説明変数（学習用）\n",
    "train_data"
   ]
  },
  {
   "cell_type": "code",
   "execution_count": null,
   "metadata": {
    "collapsed": false
   },
   "outputs": [],
   "source": [
    "# 説明変数（テスト用）\n",
    "test_data"
   ]
  },
  {
   "cell_type": "markdown",
   "metadata": {},
   "source": [
    "同様に、目的変数のほうも確認しましょう。確認すべきことは、\n",
    "* train_target と test_target が N次元のベクトル（N行１列の行列）になっていること\n",
    "* train_target と train_data のサンプルの数（N）と順序が揃っていること\n",
    "* test_target と test_data のサンプルの数（N）と順序が揃っていること"
   ]
  },
  {
   "cell_type": "code",
   "execution_count": null,
   "metadata": {
    "collapsed": false
   },
   "outputs": [],
   "source": [
    "# 目的変数（学習用）\n",
    "pd.DataFrame(train_target)"
   ]
  },
  {
   "cell_type": "code",
   "execution_count": null,
   "metadata": {
    "collapsed": false
   },
   "outputs": [],
   "source": [
    "# 目的変数（テスト用）\n",
    "pd.DataFrame(test_target)"
   ]
  },
  {
   "cell_type": "markdown",
   "metadata": {},
   "source": [
    "以上で、サポートベクトルマシン（SVM）などの教師あり機械学習法を使うためのデータ整備ができました。"
   ]
  },
  {
   "cell_type": "markdown",
   "metadata": {},
   "source": [
    "### SVMで学習・予測\n",
    "学習用データ（ __train_data__ と __train_target__ ) の関係を学習して、テスト用データ( __test_data__ )から正解( __test_target__ ) を予測する、という流れになります。\n",
    "\n",
    "まずハイパーパラメータの設定を行います。ハイパーパラメータとは、簡単に言えば、機械学習を行う際に人間が予め設定しておかなければいけないパラメータのことです。"
   ]
  },
  {
   "cell_type": "code",
   "execution_count": null,
   "metadata": {
    "collapsed": true
   },
   "outputs": [],
   "source": [
    "# 様々なパラメータ（ハイパーパラメータという）で学習し、予測性能の最も良いモデルを選択する。\n",
    "parameters = [\n",
    "    {'kernel': ['linear'], 'C': [1, 10, 100, 1000]},\n",
    "    {'kernel': ['rbf'],     'C': [1, 10, 100, 1000], 'gamma': [1e-2, 1e-3, 1e-4]},      \n",
    "    {'kernel': ['poly'],'C': [1, 10, 100, 1000], 'degree': [2, 3, 4, 5]}]"
   ]
  },
  {
   "cell_type": "markdown",
   "metadata": {},
   "source": [
    "上のような設定を行えば、（パラメータの細かい意味は今は無視してください）\n",
    "* linearカーネルSVMでC=1\n",
    "* linearカーネルSVMでC=10\n",
    "* linearカーネルSVMでC=100\n",
    "* linearカーネルSVMでC=1000\n",
    "* rbfカーネルSVMでC=1,gamma=1e-2\n",
    "* rbfカーネルSVMでC=1,gamma=1e-3\n",
    "* rbfカーネルSVMでC=1,gamma=1e-4\n",
    "* rbfカーネルSVMでC=10,gamma=1e-2\n",
    "* rbfカーネルSVMでC=10,gamma=1e-3\n",
    "* rbfカーネルSVMでC=10,gamma=1e-4\n",
    "* rbfカーネルSVMでC=100,gamma=1e-2\n",
    "* rbfカーネルSVMでC=100,gamma=1e-3\n",
    "* rbfカーネルSVMでC=100,gamma=1e-4\n",
    "* rbfカーネルSVMでC=1000,gamma=1e-2\n",
    "* rbfカーネルSVMでC=1000,gamma=1e-3\n",
    "* rbfカーネルSVMでC=1000,gamma=1e-4\n",
    "* polynominalカーネルSVMでC=1,degree=2\n",
    "* polynominalカーネルSVMでC=1,degree=3\n",
    "* polynominalカーネルSVMでC=1,degree=4\n",
    "* polynominalカーネルSVMでC=1,degree=5\n",
    "* polynominalカーネルSVMでC=10,degree=2\n",
    "* polynominalカーネルSVMでC=10,degree=3\n",
    "* polynominalカーネルSVMでC=10,degree=4\n",
    "* polynominalカーネルSVMでC=10,degree=5\n",
    "* polynominalカーネルSVMでC=100,degree=2\n",
    "* polynominalカーネルSVMでC=100,degree=3\n",
    "* polynominalカーネルSVMでC=100,degree=4\n",
    "* polynominalカーネルSVMでC=100,degree=5\n",
    "* polynominalカーネルSVMでC=1000,degree=2\n",
    "* polynominalカーネルSVMでC=1000,degree=3\n",
    "* polynominalカーネルSVMでC=1000,degree=4\n",
    "* polynominalカーネルSVMでC=1000,degree=5\n",
    "\n",
    "以上の計３２通りのSVMで計算を行い、最も予測性能の高いものを選択することになります。本来はこのように非常に多数のハイパーパラメータを設定し最良の予測モデルを探索するのですが、たいへん長い計算時間を必要とすることがあります。時間の制約のため、本実習では、ハイパーパラメータの数を次のように減らして良いということにします。"
   ]
  },
  {
   "cell_type": "code",
   "execution_count": null,
   "metadata": {
    "collapsed": true
   },
   "outputs": [],
   "source": [
    "# 様々なパラメータ（ハイパーパラメータという）で学習し、予測性能の最も良いモデルを選択する。\n",
    "parameters = [\n",
    "    {'kernel': ['linear'], 'C': [1]},\n",
    "    {'kernel': ['rbf'],     'C': [1], 'gamma': [1e-2]},      \n",
    "    {'kernel': ['poly'],'C': [1], 'degree': [2]}]"
   ]
  },
  {
   "cell_type": "markdown",
   "metadata": {},
   "source": [
    "これで、\n",
    "\n",
    "* linearカーネルSVMでC=1\n",
    "* rbfカーネルSVMでC=1,gamma=1e-2\n",
    "* polynominalカーネルSVMでC=1,degree=2\n",
    "\n",
    "以上の計３通りのSVMで計算を行い、最も予測性能の高いものを選択することになります。では実際に計算してみましょう。"
   ]
  },
  {
   "cell_type": "code",
   "execution_count": null,
   "metadata": {
    "collapsed": false
   },
   "outputs": [],
   "source": [
    "from sklearn import svm\n",
    "from sklearn.metrics import accuracy_score\n",
    "import time\n",
    "start = time.time()\n",
    "from sklearn import grid_search\n",
    "\n",
    "# train_data を使って、SVM による学習を行う\n",
    "gs = grid_search.GridSearchCV(svm.SVC(), parameters, n_jobs=2).fit(train_data, train_target)\n",
    "\n",
    "# 分離性能の最も良かったモデルが何だったか出力する\n",
    "print(gs.best_estimator_)\n",
    "\n",
    "# モデル構築に使わなかったデータを用いて、予測性能を評価する\n",
    "pred_target = gs.predict(test_data)\n",
    "print (\"Accuracy_score:{0}\".format(accuracy_score(test_target, pred_target)))\n",
    "elapsed_time = time.time() - start\n",
    "print(\"elapsed_time:{0}\".format(elapsed_time))"
   ]
  },
  {
   "cell_type": "markdown",
   "metadata": {},
   "source": [
    "複数のハイパーパラメータの中で、上記に記述されているものが最良だったということになります。学習セットと評価セットの分割はランダムに行われるので、毎回違った結果が出ますが、Accuracy score （正解率）は非常に高い（おおむね0.99）ことが分かります。この問題は、SVMで解くには簡単すぎたようです。"
   ]
  },
  {
   "cell_type": "markdown",
   "metadata": {},
   "source": [
    "予測精度はAccuracy_score:で表記された数値の通りですが、もう少し具体的に予測結果の中身を検討してみましょう。"
   ]
  },
  {
   "cell_type": "code",
   "execution_count": null,
   "metadata": {
    "collapsed": false
   },
   "outputs": [],
   "source": [
    "# 予測結果と、本当の答えを比較する\n",
    "df = pd.DataFrame(columns=['test', 'pred'])\n",
    "df['test'] = test_target # 本当の答え\n",
    "df['pred'] = pred_target # 予測された答え\n",
    "df.T"
   ]
  },
  {
   "cell_type": "code",
   "execution_count": null,
   "metadata": {
    "collapsed": false
   },
   "outputs": [],
   "source": [
    "# 予測結果を本当の答えの比較を、混合行列（confusion matrix）で表現する\n",
    "from sklearn.metrics import confusion_matrix\n",
    "cm = confusion_matrix(test_target, pred_target)\n",
    "pd.DataFrame(cm)"
   ]
  },
  {
   "cell_type": "markdown",
   "metadata": {},
   "source": [
    "対角線上にある数字が「正解」の個数ということになります。行列中の数字を眺めるのも良いですが、カラーマップに変換すれば見やすくなることもあります。やってみましょう。"
   ]
  },
  {
   "cell_type": "code",
   "execution_count": null,
   "metadata": {
    "collapsed": false
   },
   "outputs": [],
   "source": [
    "# 混合行列（confusion matrix）をカラーマップで見やすくする\n",
    "plt.imshow(cm, interpolation='nearest', cmap=plt.cm.coolwarm)\n",
    "plt.colorbar()\n",
    "tick_marks = np.arange(len(target_names))\n",
    "plt.xticks(tick_marks, target_names, rotation=45)\n",
    "plt.yticks(tick_marks, target_names)\n",
    "plt.tight_layout()\n",
    "plt.ylabel('True label')\n",
    "plt.xlabel('Predicted label')"
   ]
  },
  {
   "cell_type": "markdown",
   "metadata": {},
   "source": [
    "以上です。"
   ]
  },
  {
   "cell_type": "markdown",
   "metadata": {},
   "source": [
    "## あやめのデータ\n",
    "続いて、<a href=\"DataForPractice2017.ipynb\">「あやめのデータ」</a>を例に説明します。これは、３種類のあやめの花弁の長さなどの測定値のデータです。果たして、これらの測定値から３種類のあやめを区別できるでしょうか？\n",
    "\n",
    "以下の計算は、扱うデータこそ違いますが、ほとんど同じ操作で行っています。"
   ]
  },
  {
   "cell_type": "markdown",
   "metadata": {},
   "source": [
    "まず、データの読み込みを行います。データの読み込みについて不明点がある場合は<a href=\"ReadingCSV.ipynb\" target=\"_blank\">タブ区切りデータ、コンマ区切りデータ等の読み込み</a>を復習してください。"
   ]
  },
  {
   "cell_type": "code",
   "execution_count": null,
   "metadata": {
    "collapsed": false
   },
   "outputs": [],
   "source": [
    "url = 'https://raw.githubusercontent.com/maskot1977/ipython_notebook/master/toydata/iris.txt'\n",
    "# 指定したURLからリソースをダウンロードし、名前をつける。\n",
    "# urllib.urlretrieve(url, 'iris.txt') # Python 2 の場合\n",
    "urllib.request.urlretrieve(url, 'iris.txt') # Python 3 の場合"
   ]
  },
  {
   "cell_type": "code",
   "execution_count": null,
   "metadata": {
    "collapsed": true
   },
   "outputs": [],
   "source": [
    "df = pd.read_csv('iris.txt', sep='\\t', index_col=0) # データの読み込み"
   ]
  },
  {
   "cell_type": "code",
   "execution_count": null,
   "metadata": {
    "collapsed": false
   },
   "outputs": [],
   "source": [
    "df"
   ]
  },
  {
   "cell_type": "markdown",
   "metadata": {},
   "source": [
    "\"Species\" が、あやめの種名を表します。"
   ]
  },
  {
   "cell_type": "markdown",
   "metadata": {},
   "source": [
    "次に、散布図行列を作成して変数間の関係を眺めます。散布図行列について不明点がある場合は<a href=\"ScatterMatrix.ipynb\" target=\"_blank\">散布図行列</a>を復習してください。"
   ]
  },
  {
   "cell_type": "code",
   "execution_count": null,
   "metadata": {
    "collapsed": false
   },
   "outputs": [],
   "source": [
    "# 散布図行列\n",
    "plotting.scatter_matrix(df[list(df.columns[:-1])], figsize=(10, 10)) \n",
    "plt.show()"
   ]
  },
  {
   "cell_type": "markdown",
   "metadata": {},
   "source": [
    "上図から、なんとなく２つのグループ（大きなグループと小さなグループ）に分かれそうだということが分かりますね。そのグループは、種名の違いと対応しているのでしょうか？それを確認するため、カラーコードを用いて、\"Species\"に基づいて散布図行列を色分けします。\n",
    "* カラーコードが分からない人は右記リンク参照→ [カラーコード表](http://www5.plala.or.jp/vaio0630/hp/c_code.htm)・[カラーコード](http://www.finitojapan.com/cltable.html)"
   ]
  },
  {
   "cell_type": "code",
   "execution_count": null,
   "metadata": {
    "collapsed": false
   },
   "outputs": [],
   "source": [
    "# 色分けした散布図行列\n",
    "color_codes = [\"#FF0000\", \"#0000FF\", \"#00FF00\"]\n",
    "class_names = list(set(df.iloc[:, -1]))\n",
    "colors = [color_codes[class_names.index(x)] for x in list(df.iloc[:, -1])]\n",
    "plotting.scatter_matrix(df[list(df.columns[:6])], figsize=(10, 10), color=colors) \n",
    "plt.show()"
   ]
  },
  {
   "cell_type": "markdown",
   "metadata": {},
   "source": [
    "上の散布図行列から、小さなグループは１つの種から、大きなグループは２つの種から成るということが言えそうです。小さなグループと大きなグループの区別は簡単そうですね。大きなグループの２種は、どのようにすれば分けられるでしょうか？\n",
    "\n",
    "Sepal.Length, Sepal.Width, Petal.Length, Petal.Widthのどの変数でも、１つだけ単独で用いるだけでもそこそこの分離性能は出せそうです。それでは、これらの変数を組み合わせればどうなるでしょうか？それを見るために、主成分分析をしてみましょう。主成分分析について不明点がある場合は<a href=\"PCA2017.ipynb\" target=\"_blank\">主成分分析</a>を復習してください。"
   ]
  },
  {
   "cell_type": "code",
   "execution_count": null,
   "metadata": {
    "collapsed": false
   },
   "outputs": [],
   "source": [
    "# 行列の正規化\n",
    "dfs = df.iloc[:, :-1].apply(lambda x: (x-x.mean())/x.std(), axis=0).fillna(0)"
   ]
  },
  {
   "cell_type": "code",
   "execution_count": null,
   "metadata": {
    "collapsed": false
   },
   "outputs": [],
   "source": [
    "#主成分分析の実行\n",
    "pca = PCA()\n",
    "pca.fit(dfs.iloc[:, :])\n",
    "# データを主成分空間に写像 = 次元圧縮\n",
    "feature = pca.transform(dfs.iloc[:, :])\n",
    "# 第一主成分と第二主成分でプロットする\n",
    "plt.figure(figsize=(8, 8))\n",
    "for x, y, name in zip(feature[:, 0], feature[:, 1], dfs.index):\n",
    "    plt.text(x, y, name, alpha=0.5, size=10)\n",
    "plt.scatter(feature[:, 0], feature[:, 1], alpha=0.8)\n",
    "plt.grid()\n",
    "plt.show()"
   ]
  },
  {
   "cell_type": "markdown",
   "metadata": {},
   "source": [
    "上の主成分分析の結果を見ても、大きいグループと小さいグループに分かれることがわかりました。これらのグループと種名の関係はどうなっているでしょうか？色分けをして確認してみましょう。"
   ]
  },
  {
   "cell_type": "code",
   "execution_count": null,
   "metadata": {
    "collapsed": false
   },
   "outputs": [],
   "source": [
    "color_codes = [\"#FF0000\", \"#0000FF\", \"#00FF00\"]\n",
    "class_names = list(set(df.iloc[:, -1]))\n",
    "colors = [color_codes[class_names.index(x)] for x in list(df.iloc[:, -1])]\n",
    "#主成分分析の実行\n",
    "pca = PCA()\n",
    "pca.fit(dfs.iloc[:, :])\n",
    "# データを主成分空間に写像 = 次元圧縮\n",
    "feature = pca.transform(dfs.iloc[:, :])\n",
    "# 第一主成分と第二主成分でプロットする\n",
    "plt.figure(figsize=(8, 8))\n",
    "for x, y, name in zip(feature[:, 0], feature[:, 1], dfs.index):\n",
    "    plt.text(x, y, name, alpha=0.5, size=10)\n",
    "plt.scatter(feature[:, 0], feature[:, 1], alpha=0.8, c=colors)\n",
    "plt.grid()\n",
    "plt.show()"
   ]
  },
  {
   "cell_type": "markdown",
   "metadata": {},
   "source": [
    "これまでの解析で、あやめははっきりとした特徴の違いのある大小２つのグループに分かれること、そして小グループは１つの種と、大グループは２つの種に対応することが分かりました。そのうち大グループの２つの種も、比較的簡単に区別できそうです。では次に、これを自動的に区別するための機械学習モデルを作りましょう。"
   ]
  },
  {
   "cell_type": "markdown",
   "metadata": {},
   "source": [
    "### データの整形\n",
    "Nをサンプル数（ここでは、あやめの花の数）、Mを特徴量の数（ここでは、花弁の長さなどの測定値の種類の数）とする。\n",
    "\n",
    "* __feature_names__ : 特徴量の名前（M次元のベクトル。ここでは、「花弁の長さ」など。）\n",
    "* __target_names__ : 目的変数の名前（目的となるグループの名前。ここでは種名。）\n",
    "* __sample_names__ : サンプルの名前（N次元のベクトル。ここでは、あやめの花のID番号。）\n",
    "* __data__ : 説明変数（N行M列の行列。ここでは、それぞれの花弁の長さなどの測定値。）\n",
    "* __target__ : 目的変数（N次元のベクトル。ここでは、それぞれの花の種名が何かを表す。）\n",
    "\n",
    "ここでの機械学習の目的は、__data__から__target__を予測する問題を解くことである。"
   ]
  },
  {
   "cell_type": "markdown",
   "metadata": {},
   "source": [
    "先ほど読み込んだデータを、上記の形式に合わせてPandasを用いて整形します。不明点がある場合は<a href=\"UsingNumpyAndPandas.ipynb\" target=\"_blank\">Numpy と Pandas を用いた演算</a>を復習してください。"
   ]
  },
  {
   "cell_type": "code",
   "execution_count": null,
   "metadata": {
    "collapsed": true
   },
   "outputs": [],
   "source": [
    "feature_names = df.columns[:-1]\n",
    "target_names = list(set(df.iloc[:, -1]))\n",
    "sample_names = df.index\n",
    "data = df.iloc[:, :-1]\n",
    "target = df.iloc[:, -1]"
   ]
  },
  {
   "cell_type": "markdown",
   "metadata": {},
   "source": [
    "### データの分割\n",
    "交差検定をするため、データを学習用とテスト用に分割します。\n",
    "* __train_data__ :  説明変数（学習用）\n",
    "* __test_data__ : 説明変数（テスト用）\n",
    "* __train_target__ : 目的変数（学習用）\n",
    "* __test_target__ :  目的変数（テスト用）\n",
    "\n",
    "交差検定 (cross-validation) とは → [交差検定](http://image.slidesharecdn.com/scikit-learn-141201042924-conversion-gate01/95/scikit-learn-15-638.jpg)\n",
    "* 現在取得できているデータを「学習用セット」と「テスト用（評価用）セット」に分け、「学習用セット」だけを使って予測モデルを構築し、「テスト用セット」を使ってモデルの性能を評価します。"
   ]
  },
  {
   "cell_type": "code",
   "execution_count": null,
   "metadata": {
    "collapsed": true
   },
   "outputs": [],
   "source": [
    "from sklearn import cross_validation as cv\n",
    "train_data, test_data, train_target, test_target = cv.train_test_split(data, target, test_size=0.5)"
   ]
  },
  {
   "cell_type": "markdown",
   "metadata": {},
   "source": [
    "train_test_splitを用いると、dataとtargetの対応関係を保った上で、シャッフル（サンプルの順番をランダムに入れかえ）し、学習セットと評価セットに分割できます。\n",
    "\n",
    "上記で、test_size=0.5 とすると、train:test = 5:5 になります。つまり、半分のデータだけを使って学習して予測モデルを構築し、その予測モデルを用いて残り半分のデータを予測し、答えあわせをして、構築した予測モデルの性能を評価することになります。\n",
    "\n",
    "仮に test_size=0.2 に変更すると、train:test = 8:2 になります。つまり、80%のデータを使って学習して予測モデルを構築し、その予測モデルを用いて残り20%のデータを予測し、答えあわせをして、構築した予測モデルの性能を評価することになります。\n",
    "\n",
    "どちらのほうが予測性能が高くなるでしょうか？見かけ上、後者です。test_sizeを小さくすればするほど、見かけ上の予測性能が向上します。ところがそのような予測モデルは、与えられた学習用セットだけに過剰に適合し、汎化能力に欠ける予測モデルになる可能性があります（そのような状態を「過剰適合」または「過学習」「オーバーフィッティング」と言います）。\n",
    "\n",
    "では、test_sizeは大きいほうが良いのでしょうか？大きくし過ぎると、学習データが小さくなります。そのため性能が落ちたり、場合によっては、あるtarget_nameを持つサンプルの数が少なくなりすぎてそのtarget_nameの予測ができなくなったりします。\n",
    "\n",
    "test_sizeをどのくらいにするのが最適か、データの中身を見ながらケースバイケースで決める必要があります。"
   ]
  },
  {
   "cell_type": "markdown",
   "metadata": {},
   "source": [
    "念のため、分割したデータの中身を確認しましょう。train_dataとtest_dataで、順番がきちんとシャッフルされていて、どちらも意図した通りのデータサイズになっていること（たとえばtest_size=0.5としたならtrain_dataとtest_dataのサイズが1:1になっていること）を確認してください。"
   ]
  },
  {
   "cell_type": "code",
   "execution_count": null,
   "metadata": {
    "collapsed": false
   },
   "outputs": [],
   "source": [
    "# 説明変数（学習用）\n",
    "train_data"
   ]
  },
  {
   "cell_type": "code",
   "execution_count": null,
   "metadata": {
    "collapsed": false
   },
   "outputs": [],
   "source": [
    "# 説明変数（テスト用）\n",
    "test_data"
   ]
  },
  {
   "cell_type": "markdown",
   "metadata": {},
   "source": [
    "同様に、目的変数のほうも確認しましょう。確認すべきことは、\n",
    "* train_target と test_target が N次元のベクトル（N行１列の行列）になっていること\n",
    "* train_target と train_data のサンプルの数（N）と順序が揃っていること\n",
    "* test_target と test_data のサンプルの数（N）と順序が揃っていること"
   ]
  },
  {
   "cell_type": "code",
   "execution_count": null,
   "metadata": {
    "collapsed": false,
    "scrolled": false
   },
   "outputs": [],
   "source": [
    "# 目的変数（学習用）\n",
    "pd.DataFrame(train_target)"
   ]
  },
  {
   "cell_type": "code",
   "execution_count": null,
   "metadata": {
    "collapsed": false
   },
   "outputs": [],
   "source": [
    "# 目的変数（テスト用）\n",
    "pd.DataFrame(test_target)"
   ]
  },
  {
   "cell_type": "markdown",
   "metadata": {},
   "source": [
    "以上で、サポートベクトルマシン（SVM）などの教師あり機械学習法を使うためのデータ整備ができました。"
   ]
  },
  {
   "cell_type": "markdown",
   "metadata": {},
   "source": [
    "### SVMで学習・予測\n",
    "学習用データ（ __train_data__ と __train_target__ ) の関係を学習して、テスト用データ( __test_data__ )から正解( __test_target__ ) を予測する、という流れになります。\n",
    "\n",
    "まずハイパーパラメータの設定を行います。ハイパーパラメータとは、簡単に言えば、機械学習を行う際に人間が予め設定しておかなければいけないパラメータのことです。"
   ]
  },
  {
   "cell_type": "code",
   "execution_count": null,
   "metadata": {
    "collapsed": true
   },
   "outputs": [],
   "source": [
    "parameters = [\n",
    "    {'kernel': ['linear'], 'C': [1, 10, 100, 1000]},\n",
    "    {'kernel': ['rbf'],     'C': [1, 10, 100, 1000], 'gamma': [1e-2, 1e-3, 1e-4]},      \n",
    "    {'kernel': ['poly'],'C': [1, 10, 100, 1000], 'degree': [2, 3, 4, 5]}]"
   ]
  },
  {
   "cell_type": "markdown",
   "metadata": {},
   "source": [
    "上のような設定を行えば、（パラメータの細かい意味は今は無視してください）\n",
    "* linearカーネルSVMでC=1\n",
    "* linearカーネルSVMでC=10\n",
    "* linearカーネルSVMでC=100\n",
    "* linearカーネルSVMでC=1000\n",
    "* rbfカーネルSVMでC=1,gamma=1e-2\n",
    "* rbfカーネルSVMでC=1,gamma=1e-3\n",
    "* rbfカーネルSVMでC=1,gamma=1e-4\n",
    "* rbfカーネルSVMでC=10,gamma=1e-2\n",
    "* rbfカーネルSVMでC=10,gamma=1e-3\n",
    "* rbfカーネルSVMでC=10,gamma=1e-4\n",
    "* rbfカーネルSVMでC=100,gamma=1e-2\n",
    "* rbfカーネルSVMでC=100,gamma=1e-3\n",
    "* rbfカーネルSVMでC=100,gamma=1e-4\n",
    "* rbfカーネルSVMでC=1000,gamma=1e-2\n",
    "* rbfカーネルSVMでC=1000,gamma=1e-3\n",
    "* rbfカーネルSVMでC=1000,gamma=1e-4\n",
    "* polynominalカーネルSVMでC=1,degree=2\n",
    "* polynominalカーネルSVMでC=1,degree=3\n",
    "* polynominalカーネルSVMでC=1,degree=4\n",
    "* polynominalカーネルSVMでC=1,degree=5\n",
    "* polynominalカーネルSVMでC=10,degree=2\n",
    "* polynominalカーネルSVMでC=10,degree=3\n",
    "* polynominalカーネルSVMでC=10,degree=4\n",
    "* polynominalカーネルSVMでC=10,degree=5\n",
    "* polynominalカーネルSVMでC=100,degree=2\n",
    "* polynominalカーネルSVMでC=100,degree=3\n",
    "* polynominalカーネルSVMでC=100,degree=4\n",
    "* polynominalカーネルSVMでC=100,degree=5\n",
    "* polynominalカーネルSVMでC=1000,degree=2\n",
    "* polynominalカーネルSVMでC=1000,degree=3\n",
    "* polynominalカーネルSVMでC=1000,degree=4\n",
    "* polynominalカーネルSVMでC=1000,degree=5\n",
    "\n",
    "以上の計３２通りのSVMで計算を行い、最も予測性能の高いものを選択することになります。本来はこのように非常に多数のハイパーパラメータを設定し最良の予測モデルを探索するのですが、たいへん長い計算時間を必要とすることがあります。時間の制約のため、本実習では、ハイパーパラメータの数を次のように減らして良いということにします。"
   ]
  },
  {
   "cell_type": "code",
   "execution_count": null,
   "metadata": {
    "collapsed": true
   },
   "outputs": [],
   "source": [
    "# 様々なパラメータ（ハイパーパラメータという）で学習し、予測性能の最も良いモデルを選択する。\n",
    "parameters = [\n",
    "    {'kernel': ['linear'], 'C': [1]},\n",
    "    {'kernel': ['rbf'],     'C': [1], 'gamma': [1e-2]},      \n",
    "    {'kernel': ['poly'],'C': [1], 'degree': [2]}]"
   ]
  },
  {
   "cell_type": "markdown",
   "metadata": {},
   "source": [
    "これで、\n",
    "\n",
    "* linearカーネルSVMでC=1\n",
    "* rbfカーネルSVMでC=1,gamma=1e-2\n",
    "* polynominalカーネルSVMでC=1,degree=2\n",
    "\n",
    "以上の計３通りのSVMで計算を行い、最も予測性能の高いものを選択することになります。では実際に計算してみましょう。"
   ]
  },
  {
   "cell_type": "code",
   "execution_count": null,
   "metadata": {
    "collapsed": false
   },
   "outputs": [],
   "source": [
    "from sklearn import svm\n",
    "from sklearn.metrics import accuracy_score\n",
    "import time\n",
    "start = time.time()\n",
    "from sklearn import grid_search\n",
    "gs = grid_search.GridSearchCV(svm.SVC(), parameters, n_jobs=2).fit(train_data, train_target)\n",
    "print(gs.best_estimator_)\n",
    "pred_target = gs.predict(test_data)\n",
    "print (\"Accuracy_score:{0}\".format(accuracy_score(test_target, pred_target)))\n",
    "elapsed_time = time.time() - start\n",
    "print(\"elapsed_time:{0}\".format(elapsed_time))"
   ]
  },
  {
   "cell_type": "markdown",
   "metadata": {},
   "source": [
    "複数のハイパーパラメータの中で、上記に記述されているものが最良だったということになります。学習セットと評価セットの分割はランダムに行われるので、毎回違った結果が出ますが、Accuracy score （正解率）は非常に高い（おおむね0.96）ことが分かります。"
   ]
  },
  {
   "cell_type": "markdown",
   "metadata": {},
   "source": [
    "予測精度はAccuracy_score:で表記された数値の通りですが、もう少し具体的に予測結果の中身を検討してみましょう。"
   ]
  },
  {
   "cell_type": "code",
   "execution_count": null,
   "metadata": {
    "collapsed": false
   },
   "outputs": [],
   "source": [
    "df = pd.DataFrame(columns=['test', 'pred'])\n",
    "df['test'] = test_target\n",
    "df['pred'] = pred_target\n",
    "df.T"
   ]
  },
  {
   "cell_type": "code",
   "execution_count": null,
   "metadata": {
    "collapsed": false
   },
   "outputs": [],
   "source": [
    "# 予測結果を本当の答えの比較を、混合行列（confusion matrix）で表現する\n",
    "from sklearn.metrics import confusion_matrix\n",
    "cm = confusion_matrix(test_target, pred_target)\n",
    "pd.DataFrame(cm)"
   ]
  },
  {
   "cell_type": "markdown",
   "metadata": {},
   "source": [
    "対角線上にある数字が「正解」の個数ということになります。行列中の数字を眺めるのも良いですが、カラーマップに変換すれば見やすくなることもあります。やってみましょう。"
   ]
  },
  {
   "cell_type": "code",
   "execution_count": null,
   "metadata": {
    "collapsed": false
   },
   "outputs": [],
   "source": [
    "# 混合行列（confusion matrix）をカラーマップで見やすくする\n",
    "plt.imshow(cm, interpolation='nearest', cmap=plt.cm.coolwarm)\n",
    "plt.colorbar()\n",
    "tick_marks = np.arange(len(target_names))\n",
    "plt.xticks(tick_marks, target_names, rotation=45)\n",
    "plt.yticks(tick_marks, target_names)\n",
    "plt.tight_layout()\n",
    "plt.ylabel('True label')\n",
    "plt.xlabel('Predicted label')"
   ]
  },
  {
   "cell_type": "markdown",
   "metadata": {},
   "source": [
    "setosa とそれ以外は簡単に区別できますが、versicolorとvirginicaの区別は、たまに間違えることもあるようですね。"
   ]
  },
  {
   "cell_type": "markdown",
   "metadata": {
    "collapsed": true
   },
   "source": [
    "以上のように、SVMで「0か1か」のような二者択一の予測もできるし、「AかBかCか」という三択や、それ以上の分類の予測も可能です。"
   ]
  },
  {
   "cell_type": "code",
   "execution_count": null,
   "metadata": {
    "collapsed": true
   },
   "outputs": [],
   "source": []
  }
 ],
 "metadata": {
  "kernelspec": {
   "display_name": "Python 3",
   "language": "python",
   "name": "python3"
  },
  "language_info": {
   "codemirror_mode": {
    "name": "ipython",
    "version": 3
   },
   "file_extension": ".py",
   "mimetype": "text/x-python",
   "name": "python",
   "nbconvert_exporter": "python",
   "pygments_lexer": "ipython3",
   "version": "3.6.0"
  }
 },
 "nbformat": 4,
 "nbformat_minor": 2
}
