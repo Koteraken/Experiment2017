{
 "cells": [
  {
   "cell_type": "markdown",
   "metadata": {
    "collapsed": true
   },
   "source": [
    "# データの整形\n",
    "\n",
    "先ほどの学生実験用アンケート結果をダウンロードして Pandas に読み込んでみましょう。\n",
    "\n",
    "* <a href=\"https://docs.google.com/spreadsheets/d/1u50kS8Ztmgjjs--S1AM4753quL3QEPRR7xIGjCxcSCw/edit#gid=941271295\" target=\"_blank\">学生実験用アンケート結果</a>\n",
    "\n",
    "    * 左上の「File」→「Download as」→「Comma-separated values (.csv, current sheet)」で保存\n",
    "    * 保存時の名前は「Questionary - Form Responses 1.csv」のままにしてください。\n",
    "    * 保存したファイルを、現在実行中の .ipynb ファイルと同じ場所に置く（移動させる）。"
   ]
  },
  {
   "cell_type": "code",
   "execution_count": null,
   "metadata": {
    "collapsed": true
   },
   "outputs": [],
   "source": [
    "# データフレーム操作に関するライブラリをインポートする\n",
    "import pandas as pd"
   ]
  },
  {
   "cell_type": "code",
   "execution_count": null,
   "metadata": {
    "collapsed": true
   },
   "outputs": [],
   "source": [
    "# URL によるリソースへのアクセスを提供するライブラリをインポートする。\n",
    "# import urllib # Python 2 の場合\n",
    "import urllib.request # Python 3 の場合"
   ]
  },
  {
   "cell_type": "code",
   "execution_count": null,
   "metadata": {
    "collapsed": false
   },
   "outputs": [],
   "source": [
    "# データの読み込み\n",
    "df1 = pd.read_csv('./Questionary - Form Responses 1.csv', sep=',') "
   ]
  },
  {
   "cell_type": "code",
   "execution_count": null,
   "metadata": {
    "collapsed": false
   },
   "outputs": [],
   "source": [
    "df1"
   ]
  },
  {
   "cell_type": "markdown",
   "metadata": {},
   "source": [
    "今回は、この書式のままだと非常に使いにくいので、使いやすい形に整形します。以下のコードを実行してください（このコードの詳細は、今は理解しなくても大丈夫です）。"
   ]
  },
  {
   "cell_type": "code",
   "execution_count": null,
   "metadata": {
    "collapsed": false
   },
   "outputs": [],
   "source": [
    "import re\n",
    "seen = []\n",
    "output = open('./Responses.csv', 'w')\n",
    "with open('./Questionary - Form Responses 1.csv') as f:\n",
    "    for i, line in enumerate(f.readlines()):\n",
    "        if i == 0:\n",
    "            line = re.sub(r'\\..*?\\,', ',', line)\n",
    "            line = re.sub(r'\\..*?$', '', line)\n",
    "            a = line.split(\",\")\n",
    "            output.write(\",\".join([str(w) for w in a[2:]]))\n",
    "        else:\n",
    "            a = line.split(\",\")\n",
    "            if a[0] == '':\n",
    "                continue\n",
    "            for j in range(len(a)):\n",
    "                if len(seen) < j + 1:\n",
    "                    seen.append([])\n",
    "                if a[j] not in seen[j]:\n",
    "                    seen[j].append(a[j])\n",
    "                #print(j, a[j])\n",
    "            for j in [3, 11, 12, 13, 20]:\n",
    "                a[j] = seen[j].index(a[j])\n",
    "            output.write(\",\".join([str(w) for w in a[2:]]))\n",
    "output.close()"
   ]
  },
  {
   "cell_type": "markdown",
   "metadata": {},
   "source": [
    "これで、整形後のデータ Responses.csv が得られて、以降の解析に使えるはずです。"
   ]
  },
  {
   "cell_type": "code",
   "execution_count": null,
   "metadata": {
    "collapsed": false
   },
   "outputs": [],
   "source": [
    "# データの読み込み\n",
    "df2 = pd.read_csv('Responses.csv', sep=',') "
   ]
  },
  {
   "cell_type": "code",
   "execution_count": null,
   "metadata": {
    "collapsed": false
   },
   "outputs": [],
   "source": [
    "df2"
   ]
  },
  {
   "cell_type": "markdown",
   "metadata": {},
   "source": [
    "これでうまく読み込めました。"
   ]
  },
  {
   "cell_type": "code",
   "execution_count": null,
   "metadata": {
    "collapsed": false
   },
   "outputs": [],
   "source": [
    "# 明らかに変だろという行を指定して取り除きたいときの例\n",
    "df2.drop(23)"
   ]
  },
  {
   "cell_type": "code",
   "execution_count": null,
   "metadata": {
    "collapsed": true
   },
   "outputs": [],
   "source": [
    "# でも、１個１個データを見て取り除いていくのは辛いですね。自動的に取り除く方法を作ってみましょう。"
   ]
  },
  {
   "cell_type": "code",
   "execution_count": null,
   "metadata": {
    "collapsed": false
   },
   "outputs": [],
   "source": [
    "#ちなみに、質問項目を改めて出力しておくと、以下のようになります。\n",
    "pd.DataFrame(df1.columns[2:])"
   ]
  },
  {
   "cell_type": "code",
   "execution_count": null,
   "metadata": {
    "collapsed": false
   },
   "outputs": [],
   "source": [
    "# 標準偏差と平均値で標準化して、標準化した値（Z値）が閾値以上の答えを外れ値と見なし、外れ値を答えた人を除外する。\n",
    "def remove_outliers(df, col_name, threshold):\n",
    "    dfs = df[col_name].apply(lambda x: (x-df[col_name].mean())/df[col_name].std())\n",
    "    return df[dfs < threshold]"
   ]
  },
  {
   "cell_type": "code",
   "execution_count": null,
   "metadata": {
    "collapsed": false
   },
   "outputs": [],
   "source": [
    "# 標準偏差と平均値で標準化して、標準化した値（Z値）が閾値以上の答えを外れ値と見なし、外れ値を答えた人を除外する。\n",
    "df2 = remove_outliers(df2, 'Q2', 2)\n",
    "df2 = remove_outliers(df2, 'Q3', 2)\n",
    "df2 = remove_outliers(df2, 'Q4', 2)\n",
    "df2 = remove_outliers(df2, 'Q5', 2)\n",
    "df2 = remove_outliers(df2, 'Q6', 2)\n",
    "df2 = remove_outliers(df2, 'Q12', 2)\n",
    "df2 = remove_outliers(df2, 'Q13', 2)\n",
    "df2 = remove_outliers(df2, 'Q14', 2)\n",
    "df2 = remove_outliers(df2, 'Q15', 2)\n",
    "df2 = remove_outliers(df2, 'Q16', 2)\n",
    "df2 = remove_outliers(df2, 'Q17', 2)"
   ]
  },
  {
   "cell_type": "code",
   "execution_count": null,
   "metadata": {
    "collapsed": false
   },
   "outputs": [],
   "source": [
    "df2"
   ]
  },
  {
   "cell_type": "code",
   "execution_count": null,
   "metadata": {
    "collapsed": true
   },
   "outputs": [],
   "source": [
    "# Q18 は「彼氏または彼女はいる？」 0: いる（リアル）、 1: いる（２次元）、 2:いない だが、\n",
    "# 「1: いる（２次元）」と「2:いない」をどちらも同じと見なして「1」としたい場合。\n",
    "# （文法は難しいので、今回は見よう見まねで使ってください）\n",
    "df2['Q18'] = [1 if i > 0 else 0 for i in df2['Q18'].tolist()]"
   ]
  },
  {
   "cell_type": "code",
   "execution_count": null,
   "metadata": {
    "collapsed": false
   },
   "outputs": [],
   "source": [
    "df2"
   ]
  },
  {
   "cell_type": "code",
   "execution_count": null,
   "metadata": {
    "collapsed": true
   },
   "outputs": [],
   "source": [
    "# Q19 あなたはリア充ですか？ は５段階評価だが、\n",
    "# ３より上を「1.リア充」、３以下を「0. リア充ではない」の２段階評価に変換したい場合\n",
    "# （文法は難しいので、今回は見よう見まねで使ってください）\n",
    "df2['Q19'] = [1 if i > 3 else 0 for i in df2['Q19'].tolist()]"
   ]
  },
  {
   "cell_type": "code",
   "execution_count": null,
   "metadata": {
    "collapsed": false
   },
   "outputs": [],
   "source": [
    "df2"
   ]
  },
  {
   "cell_type": "code",
   "execution_count": null,
   "metadata": {
    "collapsed": true
   },
   "outputs": [],
   "source": []
  }
 ],
 "metadata": {
  "kernelspec": {
   "display_name": "Python 3",
   "language": "python",
   "name": "python3"
  },
  "language_info": {
   "codemirror_mode": {
    "name": "ipython",
    "version": 3
   },
   "file_extension": ".py",
   "mimetype": "text/x-python",
   "name": "python",
   "nbconvert_exporter": "python",
   "pygments_lexer": "ipython3",
   "version": "3.4.5"
  }
 },
 "nbformat": 4,
 "nbformat_minor": 2
}
