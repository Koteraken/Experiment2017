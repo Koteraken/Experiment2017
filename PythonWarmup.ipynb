{
 "cells": [
  {
   "cell_type": "markdown",
   "metadata": {},
   "source": [
    "## Python ウォーミングアップ\n",
    "まずはPythonで簡単な計算をしてみましょう。各自の画面中の IPython Notebook のセルに順次入力して（コピペ可）、「Shift + Enter」してください。\n",
    "\n",
    "シャープ # を付けるとコメントと見なされ、それ以降の文字はPythonプログラムに無視されます。\n",
    "\n",
    "print()を使うことで出力を行うことができます。"
   ]
  },
  {
   "cell_type": "code",
   "execution_count": 1,
   "metadata": {
    "collapsed": false
   },
   "outputs": [
    {
     "name": "stdout",
     "output_type": "stream",
     "text": [
      "3\n"
     ]
    }
   ],
   "source": [
    "# 簡単な足し算をする。\n",
    "print(1 + 2)"
   ]
  },
  {
   "cell_type": "code",
   "execution_count": 2,
   "metadata": {
    "collapsed": false
   },
   "outputs": [],
   "source": [
    "# 数字を変数に代入する。\n",
    "a = 4\n",
    "b = 5"
   ]
  },
  {
   "cell_type": "code",
   "execution_count": 3,
   "metadata": {
    "code_folding": [],
    "collapsed": false
   },
   "outputs": [
    {
     "name": "stdout",
     "output_type": "stream",
     "text": [
      "20\n"
     ]
    }
   ],
   "source": [
    "# 代入した変数同士の掛け算。\n",
    "print(a * b)"
   ]
  },
  {
   "cell_type": "code",
   "execution_count": 4,
   "metadata": {
    "collapsed": true
   },
   "outputs": [],
   "source": [
    "# 「リスト」というデータ構造に「data1」という名前をつけ、数字の組を代入する。\n",
    "data1 = [1, 2, 3, 4, 5]"
   ]
  },
  {
   "cell_type": "code",
   "execution_count": 5,
   "metadata": {
    "collapsed": false
   },
   "outputs": [
    {
     "name": "stdout",
     "output_type": "stream",
     "text": [
      "[1, 2, 3, 4, 5]\n"
     ]
    }
   ],
   "source": [
    "# data1 の中身を確認する。\n",
    "print(data1)"
   ]
  },
  {
   "cell_type": "code",
   "execution_count": 5,
   "metadata": {
    "collapsed": false
   },
   "outputs": [
    {
     "name": "stdout",
     "output_type": "stream",
     "text": [
      "1\n",
      "2\n",
      "5\n"
     ]
    }
   ],
   "source": [
    "# listには左から順に,0から始まる住所(index)がついており、その住所を指定することで、listの中身を取り出すことができる。\n",
    "# listの一番左の要素\n",
    "print(data1[0])\n",
    "# listの2番めの要素\n",
    "print(data1[1])\n",
    "# listの5番目の要素\n",
    "print(data1[4])"
   ]
  },
  {
   "cell_type": "markdown",
   "metadata": {},
   "source": [
    "ここから先のプログラムでは、インデント（文頭の空白文字）や、文末の「:」（コロン）などを正しく記述しないと、思った通りの動作をしなくなります。注意して使ってください。"
   ]
  },
  {
   "cell_type": "code",
   "execution_count": 6,
   "metadata": {
    "collapsed": false
   },
   "outputs": [
    {
     "name": "stdout",
     "output_type": "stream",
     "text": [
      "2\n",
      "4\n",
      "6\n",
      "8\n",
      "10\n"
     ]
    }
   ],
   "source": [
    "# 「for文」を使って、リストの中身を１個１個取り出し、２倍して返す。\n",
    "for n in data1:\n",
    "    print(n * 2)"
   ]
  },
  {
   "cell_type": "code",
   "execution_count": 6,
   "metadata": {
    "collapsed": true
   },
   "outputs": [],
   "source": [
    "# 上と同じことをする関数を定義する。\n",
    "# defを使うことによって関数を定義することができる。\n",
    "# 関数の名前はなんでも良い。(この例ではdouble)\n",
    "# 関数には引数と呼ばれる値を渡すことができる。これも名前はなんでも良い。(この例ではlist)\n",
    "def double(list):\n",
    "    for n in list:\n",
    "        print(n * 2)"
   ]
  },
  {
   "cell_type": "code",
   "execution_count": 7,
   "metadata": {
    "collapsed": false
   },
   "outputs": [
    {
     "name": "stdout",
     "output_type": "stream",
     "text": [
      "2\n",
      "4\n",
      "6\n",
      "8\n",
      "10\n"
     ]
    }
   ],
   "source": [
    "# 作った関数を呼び出して実行する。\n",
    "# 引数としてdata1を渡している。double関数のlistの部分にdata1が入るというイメージである。\n",
    "# double関数にprint()が内包されているため、double()を実行すると、printされる。\n",
    "double(data1)"
   ]
  },
  {
   "cell_type": "code",
   "execution_count": 8,
   "metadata": {
    "collapsed": true
   },
   "outputs": [],
   "source": [
    "# ２つのリスト中の個々の数字同士を掛け算して新しいリストを作る関数を定義する\n",
    "def multiply(list1, list2):\n",
    "    # 空のリストを定義\n",
    "    new_list = []\n",
    "    # zip()を使うことで複数のlistから値を同時に取り出すことができる。\n",
    "    # ここではlist1,list2からそれぞれn,mへと値が取り出されている。\n",
    "    for n, m in zip(list1, list2):\n",
    "        # リストに.append()をすることで、リストに右から要素を追加していくことができる。\n",
    "        new_list.append(n * m)\n",
    "    # 関数として作成したnew_listを返す処理を行っている。\n",
    "    return new_list"
   ]
  },
  {
   "cell_type": "code",
   "execution_count": 9,
   "metadata": {
    "collapsed": true
   },
   "outputs": [],
   "source": [
    "# ２つめのリストを作る\n",
    "data2 = [9, 8, 7, 6, 5]"
   ]
  },
  {
   "cell_type": "code",
   "execution_count": 10,
   "metadata": {
    "collapsed": false
   },
   "outputs": [
    {
     "name": "stdout",
     "output_type": "stream",
     "text": [
      "[9, 16, 21, 24, 25]\n"
     ]
    }
   ],
   "source": [
    "# 作った関数を呼び出して使う\n",
    "# 関数multiplyに引数として、data1,data2を渡し、返ってきたリストをprintする。\n",
    "print(multiply(data1, data2))"
   ]
  },
  {
   "cell_type": "code",
   "execution_count": 11,
   "metadata": {
    "collapsed": true
   },
   "outputs": [],
   "source": [
    "# ２つのリスト中の数字の全ての組み合わせを掛け算して新しいリストを作る関数を定義する\n",
    "def all_combination(list1, list2):\n",
    "    new_list = []\n",
    "    # forループの中にforループを書くことができる。\n",
    "    # この場合、list1の1番目-list2の全要素→list1の2番目-list2の全要素→...という組み合わせで処理が行われる。\n",
    "    for n in list1:\n",
    "        for m in list2:\n",
    "            new_list.append(n * m)\n",
    "    return new_list"
   ]
  },
  {
   "cell_type": "code",
   "execution_count": 12,
   "metadata": {
    "collapsed": false
   },
   "outputs": [
    {
     "name": "stdout",
     "output_type": "stream",
     "text": [
      "[9, 8, 7, 6, 5, 18, 16, 14, 12, 10, 27, 24, 21, 18, 15, 36, 32, 28, 24, 20, 45, 40, 35, 30, 25]\n"
     ]
    }
   ],
   "source": [
    "# 作った関数を呼び出して使う\n",
    "print(all_combination(data1, data2))"
   ]
  },
  {
   "cell_type": "code",
   "execution_count": null,
   "metadata": {
    "collapsed": true
   },
   "outputs": [],
   "source": []
  }
 ],
 "metadata": {
  "kernelspec": {
   "display_name": "Python 3",
   "language": "python",
   "name": "python3"
  },
  "language_info": {
   "codemirror_mode": {
    "name": "ipython",
    "version": 3
   },
   "file_extension": ".py",
   "mimetype": "text/x-python",
   "name": "python",
   "nbconvert_exporter": "python",
   "pygments_lexer": "ipython3",
   "version": "3.6.0"
  },
  "toc": {
   "colors": {
    "hover_highlight": "#DAA520",
    "running_highlight": "#FF0000",
    "selected_highlight": "#FFD700"
   },
   "moveMenuLeft": true,
   "nav_menu": {
    "height": "26px",
    "width": "254px"
   },
   "navigate_menu": true,
   "number_sections": true,
   "sideBar": true,
   "threshold": 4,
   "toc_cell": false,
   "toc_section_display": "block",
   "toc_window_display": false,
   "widenNotebook": false
  }
 },
 "nbformat": 4,
 "nbformat_minor": 0
}
