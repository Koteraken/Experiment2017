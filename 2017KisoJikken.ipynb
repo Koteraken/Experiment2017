{
 "cells": [
  {
   "cell_type": "markdown",
   "metadata": {},
   "source": [
    "# 2017年基礎実験\n",
    "<h2><a href=\"https://tinyurl.com/2017KisoJikken\" target=\"_blank\">https://tinyurl.com/2017KisoJikken</a></h2>\n",
    "\n",
    "<h4 style=\"border-bottom: solid 1px black;\">Jupyter Notebook を使った大規模データの可視化</h4>\n",
    "\n",
    "本実験では、Jupyter Notebook を使って大規模データの可視化を行います。本実験では、生物学実験で得られたものではないデータも多く取り扱いますが、数値データを可視化し俯瞰することは解析の基礎であり、どのようなデータであれ非常に大切なことです。\n",
    "\n",
    "<h4 style=\"border-bottom: solid 1px black;\">Jupyter Notebook (IPython Notebook) とは</h4>\n",
    "\n",
    "* Python という名のプログラミング言語が使えるプログラミング環境。計算コードと計算結果を同じ場所に時系列で保存できるので、実験系における実験ノートのように、いつどんな処理を行って何を得たのか記録して再現するのに便利。\n",
    "* <a href=\"https://raw.githubusercontent.com/maskot1977/-/master/%E6%BC%94%E7%BF%92%E5%AE%A4.txt\" target=\"_blank\">当学の演習室での使い方</a>\n",
    "* <a href=\"http://www.task-notes.com/entry/20151129/1448794509\" target=\"_blank\">個人PCでのインストールと始め方</a>\n",
    "* <a href=\"https://raw.githubusercontent.com/maskot1977/-/master/%E5%B0%8F%E5%AF%BA%E7%A0%942017.pptx.png\" target=\"_blank\">小寺研究室</a> では、MacOSX上で右記のようにセットアップしています。 <a href=\"https://sites.google.com/site/masaakikotera/8-python/8-1-huan-jing-gou-zhu\" target=\"_blank\">環境設定</a>"
   ]
  },
  {
   "cell_type": "markdown",
   "metadata": {},
   "source": [
    "<h3 STYLE=\"background: #c2edff;padding: 0.5em;\">本実習で用いるデータ</h3>\n",
    "\n",
    "（<a href=\"DataForPractice2017.ipynb\" target=\"_blank\">詳細</a>）\n",
    "* <a href=\"https://raw.githubusercontent.com/maskot1977/ipython_notebook/master/toydata/airquality.txt\" target=\"_blank\">「ニューヨークの大気状態観測値」</a>\n",
    "* <a href=\"https://raw.githubusercontent.com/maskot1977/ipython_notebook/master/toydata/USArrests.txt\" target=\"_blank\">「合州国の州別暴力犯罪率」</a>\n",
    "* <a href=\"https://raw.githubusercontent.com/maskot1977/ipython_notebook/master/toydata/sports_dataJt.txt\" target=\"_blank\">「スポーツテストデータ」</a>\n",
    "* <a href=\"https://raw.githubusercontent.com/maskot1977/ipython_notebook/master/toydata/icecream_chosa.txt\" target=\"_blank\">「好きなアイスクリームアンケート」</a>\n",
    "* <a href=\"https://raw.githubusercontent.com/maskot1977/ipython_notebook/master/toydata/PLIlive_dataJ.txt\" target=\"_blank\">「新国民生活指標データ」</a>\n",
    "* <a href=\"https://raw.githubusercontent.com/maskot1977/ipython_notebook/master/toydata/sake_dataJ.txt\" target=\"_blank\">「都道府県別アルコール類の消費量」</a>\n",
    "* <a href=\"https://raw.githubusercontent.com/maskot1977/ipython_notebook/master/toydata/sbnote_dataJt.txt\" target=\"_blank\">「スイス銀行紙幣データ」</a>\n",
    "* <a href=\"https://raw.githubusercontent.com/maskot1977/ipython_notebook/master/toydata/iris.txt\" target=\"_blank\">「あやめのデータ」</a>\n",
    "* <a href=\"https://raw.githubusercontent.com/maskot1977/ipython_notebook/master/toydata/pima-indians-diabetes.txt\" target=\"_blank\">「ピマ・インディアンの糖尿病診断」</a>\n",
    "* <a href=\"https://raw.githubusercontent.com/maskot1977/ipython_notebook/master/toydata/parkinsons.data\" target=\"_blank\">「パーキンソン病診断データ」</a>\n",
    "* <a href=\"https://raw.githubusercontent.com/maskot1977/ipython_notebook/master/toydata/ecoli.data\" target=\"_blank\">「大腸菌タンパク質の細胞内局在」</a>\n",
    "* <a href=\"https://raw.githubusercontent.com/maskot1977/ipython_notebook/master/toydata/yeast.data\" target=\"_blank\">「酵母タンパク質の細胞内局在」</a>"
   ]
  },
  {
   "cell_type": "markdown",
   "metadata": {},
   "source": [
    "<h4 style=\"border-bottom: solid 1px black;\">本実習で収集するデータ</h4>\n",
    "\n",
    "本実習では、データ収集から体験してもらうために、匿名アンケートを実施します。あまり深く考えず、短時間で気軽にパパッと回答してください。\n",
    "* <a href=\"https://docs.google.com/forms/d/e/1FAIpQLSf4yvNCXQRRuhwSxB5KyBDjL6RLbcPyilSKpI6tiUy7Vad2Pg/viewform\" target=\"_blank\">学生実験用アンケート</a>"
   ]
  },
  {
   "cell_type": "markdown",
   "metadata": {},
   "source": [
    "<h2 STYLE=\"background: #c2edff;padding: 0.5em;\">本実習スタート</h2>\n",
    "\n",
    "私の担当回では、実験の班分けは関係ありません。個人で課題を解いて、個人で提出してください。友達同士で話し合ったり助け合ったりすることは自由です。ただし、レポートは個人個人のものですので、それぞれ自分のオリジナリティを出すこと。\n",
    "\n",
    "__課題について__ ：大学受験までの問題では、そのほとんどが、答えがどこかに書いてあって、先生は答えを知っていて、その答えを書けば正解で、どこまでやれば終わりなのか明確でした。ですが社会にあるほとんどの問題には、答えがなかったり、誰も答えを知らなかったりしますし、どこまでやれば終わるのか、やってみないと分からないときもあります。そういう問題について分析して、自分の答えを出す能力が求められます。本実習でも、誰も知らない答えを自らで導き出すつもりで解いてください。"
   ]
  },
  {
   "cell_type": "markdown",
   "metadata": {},
   "source": [
    "<h4 style=\"border-bottom: solid 1px black;\">本日の目標（本日の講義時間終了まで）</h4>\n",
    "\n",
    "* __Step1__ から __Step6__ まで、とりあえず見よう見まねで計算を実行する（コピペでOK）。\n",
    "* 先に進める人は、どんどん先に進んでください。課題をさっさと解いてしまってもOKです。\n",
    "* 私の説明を聞きながら進めていってもOKです。\n",
    "* 分からないところや、思った通りにプログラムが動作しないことがあったら手を挙げて、私かTAに助けを求めてください。\n",
    "* 最後に課題がありますので、１週間以内に解いてレポートを提出してください（本日中に提出してもOKです）。\n",
    "\n",
    "<h4 style=\"border-bottom: solid 1px black;\">レポートの提出方法について（７日後の１３時２０分まで）</h4>\n",
    "\n",
    "下記の課題のレポートを、指定されたメールアドレスまで送信してください。\n",
    "* __締切__：７日後の１３時２０分。提出締切厳守とします（遅れた場合、受け取らないことがあります）。\n",
    "* __提出方法__：Microsoft Word、Microsoft PowerPoint、あるいは .ipynbファイルのいずれかの形式のファイルでレポートを作成し、指定されたメールアドレスまでメールで送信してください。メールタイトルは「2017基礎実験」とし、メール本文と添付ファイルの両方に、学籍番号と氏名を明記すること。\n",
    "* メールアドレスを間違えると、課題を提出したと見なされません。メールアドレスをよく確認して送信し、メール送信後は、エラーなくきちんと送れたかどうか確認してください（毎回ある一定の割合で、メールアドレスを間違える学生がいます）。"
   ]
  },
  {
   "cell_type": "markdown",
   "metadata": {},
   "source": [
    "<h3 STYLE=\"background: #c2edff;padding: 0.5em;\">Step 1. まずは、ウォーミングアップから</h3>\n",
    "\n",
    "まずは次のリンクをクリックして、Pythonで簡単な計算をしてみましょう。\n",
    "\n",
    "* <a href=\"PythonWarmup.ipynb\" target=\"_blank\">まずは、ウォーミングアップから</a>"
   ]
  },
  {
   "cell_type": "markdown",
   "metadata": {},
   "source": [
    "<h3 STYLE=\"background: #c2edff;padding: 0.5em;\">Step 2. ライブラリのインポート、乱数、そしてMatplotlibによる描画</h3>\n",
    "\n",
    "Pythonでは、皆がよく使う関数などをライブラリとしてまとめてあり、それをインポートして使います。乱数のライブラリの使い方や、ヒストグラムなどのグラフの描画の仕方を体験してみましょう。\n",
    "\n",
    "* <a href=\"ImportingLibrariesAndMatplotlib.ipynb\" target=\"_blank\">ライブラリのインポート、乱数、そしてMatploblibによる描画</a>"
   ]
  },
  {
   "cell_type": "markdown",
   "metadata": {},
   "source": [
    "<h3 STYLE=\"background: #c2edff;padding: 0.5em;\">Step 3. Numpy と Pandas を用いた演算</h3>\n",
    "\n",
    "行列データの取り扱いについて、簡単に学んでみましょう。\n",
    "\n",
    "* <a href=\"UsingNumpyAndPandas.ipynb\" target=\"_blank\">NumpyとPandasを用いた演算</a>"
   ]
  },
  {
   "cell_type": "markdown",
   "metadata": {},
   "source": [
    "<h3 STYLE=\"background: #c2edff;padding: 0.5em;\">Step 4. タブ区切りデータ、コンマ区切りデータ等の読み込み</h3>\n",
    "\n",
    "インターネット上にあるテキストファイル（タブ区切りデータ、コンマ区切りデータ等）をダウンロードし、Pandasに読み込む方法を会得しましょう。\n",
    "\n",
    "* <a href=\"ReadingCSV.ipynb\" target=\"_blank\">タブ区切りデータ、コンマ区切りデータ等の読み込み</a>\n",
    "\n",
    "<h4 style=\"border-bottom: solid 1px black;\">学生実験用アンケート</h4>\n",
    "\n",
    "次に、先ほどの学生実験用アンケート結果もダウンロードして Pandas に読み込んでみましょう。\n",
    "\n",
    "* <a href=\"https://docs.google.com/spreadsheets/d/1u50kS8Ztmgjjs--S1AM4753quL3QEPRR7xIGjCxcSCw/edit#gid=941271295\" target=\"_blank\">学生実験用アンケート結果</a>\n",
    "\n",
    "    * 左上の「File」→「Download as」→「Comma-separated values (.csv, current sheet)」で保存\n",
    "    * 保存時の名前は「Questionary - Form Responses 1.csv」のままにしてください。\n",
    "\n",
    "今回は、「Questionary - Form Responses 1.csv」の書式のままだと非常に使いにくいので、使いやすい形に整形します。以下のコードを実行してください。\n",
    "\n",
    "* <a href=\"ShapingData.ipynb\" target=\"_blank\">データの整形</a>\n",
    "\n",
    "これで、整形後のデータ Responses.csv が得られて、以降の解析に使えるはずです。"
   ]
  },
  {
   "cell_type": "markdown",
   "metadata": {},
   "source": [
    "<h3 STYLE=\"background: #c2edff;padding: 0.5em;\">Step 5. 読み込んだデータの可視化</h3>\n",
    "\n",
    "大規模データを可視化する方法はいくつかありますが、本実習では以下の方法を学んでください。"
   ]
  },
  {
   "cell_type": "markdown",
   "metadata": {},
   "source": [
    "<ul>\n",
    "<li><a href=\"LineGraph.ipynb\" target=\"_blank\">折れ線グラフ</a> ... 「ニューヨークの大気状態観測値」を例に\n",
    "<li><a href=\"Histgrams.ipynb\" target=\"_blank\">ヒストグラム</a> ... 「好きなアイスクリームアンケート」を例に\n",
    "<li><a href=\"Boxplots.ipynb\" target=\"_blank\">ボックスプロットとバイオリンプロット</a> ... 「あやめのデータ」を例に\n",
    "<li><a href=\"ScatterPlot.ipynb\" target=\"_blank\">散布図</a> ... 「合州国の州別暴力犯罪率」を例に\n",
    "<li><a href=\"ScatterMatrix.ipynb\" target=\"_blank\">散布図行列</a> ... 「スポーツテストデータ」を例に\n",
    "<li><a href=\"CorrelationMatrix.ipynb\" target=\"_blank\">相関行列</a> ... 「新国民生活指標データ」を例に\n",
    "</ul>\n",
    "\n",
    "次に、先ほどの学生実験用アンケート結果も可視化してみてください。"
   ]
  },
  {
   "cell_type": "markdown",
   "metadata": {},
   "source": [
    "<h3 STYLE=\"background: #c2edff;padding: 0.5em;\">Step 6. 機械学習（教師なし）</h3>"
   ]
  },
  {
   "cell_type": "markdown",
   "metadata": {},
   "source": [
    "教師なし学習（Unsupervised Learning）とは、機械学習の手法の一つで、データの背後に存在する本質的な構造を抽出するために用いられます。本実習ではこれを少しだけ体験してみましょう。\n",
    "<ul>\n",
    "<li><a href=\"PCA2017.ipynb\" target=\"_blank\">主成分分析</a> ... 「都道府県別アルコール類の消費量」を例に\n",
    "<li><a href=\"HierarchicalClustering2017.ipynb\" target=\"_blank\">階層的クラスタリング</a> ... 「都道府県別アルコール類の消費量」を例に\n",
    "</ul>"
   ]
  },
  {
   "cell_type": "markdown",
   "metadata": {},
   "source": [
    "「教師あり学習」（Supervised Learning）というものもありますが、それはまた次の機会に、、、"
   ]
  },
  {
   "cell_type": "markdown",
   "metadata": {},
   "source": [
    "<h2 STYLE=\"background: #c2edff;padding: 0.5em;\">課題</h2>\n",
    "\n",
    "* <a href=\"https://raw.githubusercontent.com/maskot1977/ipython_notebook/master/toydata/airquality.txt\" target=\"_blank\">「ニューヨークの大気状態観測値」</a>\n",
    "* <a href=\"https://raw.githubusercontent.com/maskot1977/ipython_notebook/master/toydata/USArrests.txt\" target=\"_blank\">「合州国の州別暴力犯罪率」</a>\n",
    "* <a href=\"https://raw.githubusercontent.com/maskot1977/ipython_notebook/master/toydata/sports_dataJt.txt\" target=\"_blank\">「スポーツテストデータ」</a>\n",
    "* <a href=\"https://raw.githubusercontent.com/maskot1977/ipython_notebook/master/toydata/icecream_chosa.txt\" target=\"_blank\">「好きなアイスクリームアンケート」</a>\n",
    "* <a href=\"https://raw.githubusercontent.com/maskot1977/ipython_notebook/master/toydata/PLIlive_dataJ.txt\" target=\"_blank\">「新国民生活指標データ」</a>\n",
    "* <a href=\"https://raw.githubusercontent.com/maskot1977/ipython_notebook/master/toydata/sake_dataJ.txt\" target=\"_blank\">「都道府県別アルコール類の消費量」</a>\n",
    "* <a href=\"https://raw.githubusercontent.com/maskot1977/ipython_notebook/master/toydata/sbnote_dataJt.txt\" target=\"_blank\">「スイス銀行紙幣データ」</a>\n",
    "* <a href=\"https://raw.githubusercontent.com/maskot1977/ipython_notebook/master/toydata/iris.txt\" target=\"_blank\">「あやめのデータ」</a>\n",
    "* <a href=\"https://raw.githubusercontent.com/maskot1977/ipython_notebook/master/toydata/pima-indians-diabetes.txt\" target=\"_blank\">「ピマ・インディアンの糖尿病診断」</a>\n",
    "* <a href=\"https://raw.githubusercontent.com/maskot1977/ipython_notebook/master/toydata/parkinsons.data\" target=\"_blank\">「パーキンソン病診断データ」</a>\n",
    "* <a href=\"https://raw.githubusercontent.com/maskot1977/ipython_notebook/master/toydata/ecoli.data\" target=\"_blank\">「大腸菌タンパク質の細胞内局在」</a>\n",
    "* <a href=\"https://raw.githubusercontent.com/maskot1977/ipython_notebook/master/toydata/yeast.data\" target=\"_blank\">「酵母タンパク質の細胞内局在」</a>\n",
    "* <a href=\"https://docs.google.com/spreadsheets/d/1u50kS8Ztmgjjs--S1AM4753quL3QEPRR7xIGjCxcSCw/edit#gid=941271295\" target=\"_target\">学生実験用アンケート結果</a>\n",
    "\n",
    "以上のデータ（<a href=\"DataForPractice2017.ipynb\" target=\"_blank\">詳細</a>）の中から２つ以上を選び、データの可視化と機械学習を用いながら解析し、結果を考察してください。\n",
    "\n",
    "Jupyterはこの演習室だけでなく、当学でMacが使える演習室ならどこでも使えるはずです（できる人は、個人PCでJupyterが使えるように設定してもらってももちろん構いません）。\n",
    "\n",
    "<h4 style=\"padding: 0.25em 0.5em;color: #494949;background: transparent;border-left: solid 5px #7db4e6;\">締切</h4>\n",
    "\n",
    "７日後の１３時２０分。提出締切厳守とします（遅れた場合、受け取らないことがあります）。\n",
    "\n",
    "<h4 style=\"padding: 0.25em 0.5em;color: #494949;background: transparent;border-left: solid 5px #7db4e6;\">提出方法</h4>\n",
    "\n",
    "Microsoft Word、Microsoft PowerPoint、あるいは .ipynbファイルのいずれかの形式のファイルでレポートを作成し、指定されたメールアドレスまでメールで送信してください。メールタイトルは「2017基礎実験」とし、メール本文と添付ファイルの両方に、学籍番号と氏名を明記すること。\n",
    "\n",
    "また、この実験に関して感想などがありましたら書いてくださると嬉しいです。今後の講義や実験などの改善につながるかもしれません。"
   ]
  },
  {
   "cell_type": "markdown",
   "metadata": {
    "collapsed": true
   },
   "source": [
    "<h4 style=\"border-bottom: solid 1px black;\">余談</h4>\n",
    "\n",
    "学生さんに「おすすめ教材は？」と聞かれる機会が多いけど、各人の理解度によって違ってくるので難しいですね、、、、まずはご自分でググってみて、それがどのくらい理解できるか、自分が何に興味があるか把握して、書店に行って本を立ち読み、という経緯を踏むのが良いと思います。"
   ]
  },
  {
   "cell_type": "code",
   "execution_count": null,
   "metadata": {
    "collapsed": true
   },
   "outputs": [],
   "source": []
  }
 ],
 "metadata": {
  "kernelspec": {
   "display_name": "Python 3",
   "language": "python",
   "name": "python3"
  },
  "language_info": {
   "codemirror_mode": {
    "name": "ipython",
    "version": 3
   },
   "file_extension": ".py",
   "mimetype": "text/x-python",
   "name": "python",
   "nbconvert_exporter": "python",
   "pygments_lexer": "ipython3",
   "version": "3.4.5"
  }
 },
 "nbformat": 4,
 "nbformat_minor": 2
}
