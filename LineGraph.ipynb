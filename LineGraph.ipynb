{
 "cells": [
  {
   "cell_type": "markdown",
   "metadata": {},
   "source": [
    "# 折れ線グラフ\n",
    "\n",
    "<a href=\"DataForPractice2017.ipynb\">「ニューヨークの大気状態観測値」</a>を例に説明します。"
   ]
  },
  {
   "cell_type": "code",
   "execution_count": null,
   "metadata": {
    "collapsed": true
   },
   "outputs": [],
   "source": [
    "# 「#」（シャープ）以降の文字はプログラムに影響しません。\n",
    "# 図やグラフを図示するためのライブラリをインポートする。\n",
    "import matplotlib.pyplot as plt\n",
    "%matplotlib inline"
   ]
  },
  {
   "cell_type": "code",
   "execution_count": null,
   "metadata": {
    "collapsed": true
   },
   "outputs": [],
   "source": [
    "# データフレーム操作に関するライブラリをインポートする\n",
    "import pandas as pd\n",
    "from pandas.tools import plotting # 高度なプロットを行うツールのインポート"
   ]
  },
  {
   "cell_type": "code",
   "execution_count": null,
   "metadata": {
    "collapsed": true
   },
   "outputs": [],
   "source": [
    "# URL によるリソースへのアクセスを提供するライブラリをインポートする。\n",
    "# import urllib # Python 2 の場合\n",
    "import urllib.request # Python 3 の場合"
   ]
  },
  {
   "cell_type": "code",
   "execution_count": null,
   "metadata": {
    "collapsed": false
   },
   "outputs": [],
   "source": [
    "# ウェブ上のリソースを指定する\n",
    "url = 'https://raw.githubusercontent.com/maskot1977/ipython_notebook/master/toydata/airquality.txt'\n",
    "# 指定したURLからリソースをダウンロードし、名前をつける。\n",
    "# urllib.urlretrieve(url, 'airquality.txt') # Python 2 の場合\n",
    "urllib.request.urlretrieve(url, 'airquality.txt') # Python 3 の場合"
   ]
  },
  {
   "cell_type": "code",
   "execution_count": null,
   "metadata": {
    "collapsed": false
   },
   "outputs": [],
   "source": [
    "# データの読み込み\n",
    "df1 = pd.read_csv('airquality.txt', sep='\\t', index_col=0) "
   ]
  },
  {
   "cell_type": "code",
   "execution_count": null,
   "metadata": {
    "collapsed": false
   },
   "outputs": [],
   "source": [
    "df1"
   ]
  },
  {
   "cell_type": "code",
   "execution_count": null,
   "metadata": {
    "collapsed": false
   },
   "outputs": [],
   "source": [
    "# 折れ線グラフを作成する\n",
    "df1.plot()"
   ]
  },
  {
   "cell_type": "code",
   "execution_count": null,
   "metadata": {
    "collapsed": false
   },
   "outputs": [],
   "source": [
    "# 左側４列だけを用いて折れ線グラフを作成する\n",
    "df1.iloc[:, 0:4].plot()"
   ]
  },
  {
   "cell_type": "code",
   "execution_count": null,
   "metadata": {
    "collapsed": false
   },
   "outputs": [],
   "source": [
    "# 折れ線グラフの描き方（別法）\n",
    "plt.figure(figsize=(8, 8))\n",
    "\n",
    "plt.subplot(4, 1, 1)\n",
    "plt.plot(df1.iloc[:, 0])\n",
    "plt.xticks([])\n",
    "plt.ylabel(df1.columns[0])\n",
    "\n",
    "plt.subplot(4, 1, 2)\n",
    "plt.plot(df1.iloc[:, 1])\n",
    "plt.xticks([])\n",
    "plt.ylabel(df1.columns[1])\n",
    "\n",
    "plt.subplot(4, 1, 3)\n",
    "plt.plot(df1.iloc[:, 2])\n",
    "plt.xticks([])\n",
    "plt.ylabel(df1.columns[2])\n",
    "\n",
    "plt.subplot(4, 1, 4)\n",
    "plt.plot(df1.iloc[:, 3])\n",
    "plt.xticks(rotation=90)\n",
    "plt.ylabel(df1.columns[3])"
   ]
  }
 ],
 "metadata": {
  "kernelspec": {
   "display_name": "Python 3",
   "language": "python",
   "name": "python3"
  },
  "language_info": {
   "codemirror_mode": {
    "name": "ipython",
    "version": 3
   },
   "file_extension": ".py",
   "mimetype": "text/x-python",
   "name": "python",
   "nbconvert_exporter": "python",
   "pygments_lexer": "ipython3",
   "version": "3.4.5"
  }
 },
 "nbformat": 4,
 "nbformat_minor": 2
}
