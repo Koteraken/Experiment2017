{
 "cells": [
  {
   "cell_type": "markdown",
   "metadata": {},
   "source": [
    "# 階層的クラスタリング\n",
    "* 本実習では教師なし学習の一種である階層的クラスタリングを行ないます。\n",
    "    * 階層的クラスタリング とは何か、知らない人は下記リンク参照↓\n",
    "        * [階層的クラスタリングとは](http://image.slidesharecdn.com/140914-intel-l-141004040412-conversion-gate02/95/-12-638.jpg) \n",
    "        * [クラスタリング (クラスター分析)](http://www.kamishima.net/jp/clustering/)\n",
    "\n",
    "\n",
    "<a href=\"http://nbviewer.jupyter.org/github/maskot1977/ipython_notebook/blob/master/%E5%AE%9F%E7%BF%92%E7%94%A8%E3%83%86%E3%82%99%E3%83%BC%E3%82%BF2017.ipynb\">「都道府県別アルコール類の消費量」</a>を例に説明します。"
   ]
  },
  {
   "cell_type": "code",
   "execution_count": null,
   "metadata": {
    "collapsed": true
   },
   "outputs": [],
   "source": [
    "#（シャープ）以降の文字はプログラムに影響しません。\n",
    "# 図やグラフを図示するためのライブラリをインポートする。\n",
    "import matplotlib.pyplot as plt\n",
    "import matplotlib.ticker as ticker\n",
    "%matplotlib inline"
   ]
  },
  {
   "cell_type": "code",
   "execution_count": null,
   "metadata": {
    "collapsed": true
   },
   "outputs": [],
   "source": [
    "# 数値計算やデータフレーム操作に関するライブラリをインポートする\n",
    "import numpy as np\n",
    "import pandas as pd\n",
    "from pandas.tools import plotting # 高度なプロットを行うツールのインポート"
   ]
  },
  {
   "cell_type": "code",
   "execution_count": null,
   "metadata": {
    "collapsed": true
   },
   "outputs": [],
   "source": [
    "# URL によるリソースへのアクセスを提供するライブラリをインポートする。\n",
    "# import urllib # Python 2 の場合\n",
    "import urllib.request # Python 3 の場合"
   ]
  },
  {
   "cell_type": "code",
   "execution_count": null,
   "metadata": {
    "collapsed": false
   },
   "outputs": [],
   "source": [
    "# ウェブ上のリソースを指定する\n",
    "url = 'https://raw.githubusercontent.com/maskot1977/ipython_notebook/master/toydata/sake_dataJ.txt'\n",
    "# 指定したURLからリソースをダウンロードし、名前をつける。\n",
    "# urllib.urlretrieve(url, 'sake_dataJ.txt') # Python 2 の場合\n",
    "urllib.request.urlretrieve(url, 'sake_dataJ.txt') # Python 3 の場合"
   ]
  },
  {
   "cell_type": "code",
   "execution_count": null,
   "metadata": {
    "collapsed": true
   },
   "outputs": [],
   "source": [
    "df = pd.read_csv('sake_dataJ.txt', sep='\\t', index_col=0) # データの読み込み"
   ]
  },
  {
   "cell_type": "code",
   "execution_count": null,
   "metadata": {
    "collapsed": false
   },
   "outputs": [],
   "source": [
    "df"
   ]
  },
  {
   "cell_type": "markdown",
   "metadata": {},
   "source": [
    "### 行列の正規化\n",
    "\n",
    "行列の正規化を行います。行列の正規化について、詳しくは<a href=\"UsingNumpyAndPandas.ipynb\" target=\"_blank\">Numpy と Pandas を用いた演算</a>を参照のこと。"
   ]
  },
  {
   "cell_type": "code",
   "execution_count": null,
   "metadata": {
    "collapsed": false
   },
   "outputs": [],
   "source": [
    "# 行列の正規化\n",
    "dfs = df.apply(lambda x: (x-x.mean())/x.std(), axis=0).fillna(0)"
   ]
  },
  {
   "cell_type": "code",
   "execution_count": null,
   "metadata": {
    "collapsed": false
   },
   "outputs": [],
   "source": [
    "# 正規化を終えた行列\n",
    "dfs"
   ]
  },
  {
   "cell_type": "markdown",
   "metadata": {},
   "source": [
    "### クラスタリングについて\n",
    "クラスタリングには色んな metric と method があるので、その中から一つを選択する。\n",
    "* Metric （「距離」の定義）\n",
    "    * braycurtis\n",
    "    * canberra\n",
    "    * chebyshev\n",
    "    * cityblock\n",
    "    * correlation\n",
    "    * cosine\n",
    "    * euclidean\n",
    "    * hamming\n",
    "    * jaccard\n",
    "* Method （結合方法）\n",
    "    * single\n",
    "    * average\n",
    "    * complete\n",
    "    * weighted\n",
    "\n",
    "詳しくは、例えば <a href=\"http://qiita.com/sue_charo/items/20bad5f0bb2079257568\" target=\"_blank\">クラスタリング手法のクラスタリング</a>などを参照のこと。"
   ]
  },
  {
   "cell_type": "markdown",
   "metadata": {},
   "source": [
    "### クラスタリングの実行\n",
    "Metricからどれかひとつ、Methodからどれかひとつ選んで実行する。エラーが起こったり、あるいは「計算はできたけど、なんかこの結果はしっくり来ないな（解釈しづらいな）」と思ったら、別の方法を試す。"
   ]
  },
  {
   "cell_type": "code",
   "execution_count": null,
   "metadata": {
    "collapsed": false
   },
   "outputs": [],
   "source": [
    "# metric は色々あるので、ケースバイケースでどれかひとつ好きなものを選ぶ。\n",
    "# method も色々あるので、ケースバイケースでどれかひとつ好きなものを選ぶ。\n",
    "#y_labels.append(\"1\")\n",
    "from scipy.cluster.hierarchy import linkage, dendrogram\n",
    "result1 = linkage(dfs.iloc[:, :], \n",
    "                  #metric = 'braycurtis', \n",
    "                  #metric = 'canberra', \n",
    "                  #metric = 'chebyshev', \n",
    "                  #metric = 'cityblock', \n",
    "                  metric = 'correlation', \n",
    "                  #metric = 'cosine', \n",
    "                  #metric = 'euclidean', \n",
    "                  #metric = 'hamming', \n",
    "                  #metric = 'jaccard', \n",
    "                  #method= 'single')\n",
    "                  method = 'average')\n",
    "                  #method= 'complete')\n",
    "                  #method='weighted')\n",
    "#dendrogram(result1, labels = list(df.iloc[:, 0:1]))\n",
    "plt.figure(figsize=(8, 8))\n",
    "dendrogram(result1, orientation='right', labels=list(df.index), color_threshold=0.8)\n",
    "plt.title(\"Dedrogram\")\n",
    "plt.xlabel(\"Threshold\")\n",
    "plt.grid()\n",
    "plt.show()"
   ]
  },
  {
   "cell_type": "markdown",
   "metadata": {},
   "source": [
    "同じデータを用いて、別の方法を実行した結果を以下に示します。どの方法がベストかはケースバイケースで、データの性質をよく考えた上で解釈しなければいけません。"
   ]
  },
  {
   "cell_type": "code",
   "execution_count": null,
   "metadata": {
    "collapsed": false
   },
   "outputs": [],
   "source": [
    "# metric は色々あるので、ケースバイケースでどれかひとつ好きなものを選ぶ。\n",
    "# method も色々あるので、ケースバイケースでどれかひとつ好きなものを選ぶ。\n",
    "#y_labels.append(\"1\")\n",
    "from scipy.cluster.hierarchy import linkage, dendrogram\n",
    "result1 = linkage(dfs.iloc[:, :], \n",
    "                  #metric = 'braycurtis', \n",
    "                  #metric = 'canberra', \n",
    "                  #metric = 'chebyshev', \n",
    "                  #metric = 'cityblock', \n",
    "                  #metric = 'correlation', \n",
    "                  #metric = 'cosine', \n",
    "                  metric = 'euclidean', \n",
    "                  #metric = 'hamming', \n",
    "                  #metric = 'jaccard', \n",
    "                  #method= 'single')\n",
    "                  #method = 'average')\n",
    "                  #method= 'complete')\n",
    "                  method='weighted')\n",
    "#dendrogram(result1, labels = list(df.iloc[:, 0:1]))\n",
    "plt.figure(figsize=(8, 8))\n",
    "dendrogram(result1, orientation='right', labels=list(df.index), color_threshold=0.8)\n",
    "plt.title(\"Dedrogram\")\n",
    "plt.xlabel(\"Threshold\")\n",
    "plt.grid()\n",
    "plt.show()"
   ]
  },
  {
   "cell_type": "markdown",
   "metadata": {},
   "source": [
    "### 行と列を入れ替えてクラスタリング\n",
    "行列の転置を行えば、行と列を入れ替えたクラスタリングが行えます。行列の転置について、詳しくは<a href=\"UsingNumpyAndPandas.ipynb\" target=\"_blank\">Numpy と Pandas を用いた演算</a>を参照のこと。"
   ]
  },
  {
   "cell_type": "code",
   "execution_count": null,
   "metadata": {
    "collapsed": false
   },
   "outputs": [],
   "source": [
    "# metric は色々あるので、ケースバイケースでどれかひとつ好きなものを選ぶ。\n",
    "# method も色々あるので、ケースバイケースでどれかひとつ好きなものを選ぶ。\n",
    "#y_labels.append(\"1\")\n",
    "from scipy.cluster.hierarchy import linkage, dendrogram\n",
    "result1 = linkage(dfs.T.iloc[:, :], \n",
    "                  #metric = 'braycurtis', \n",
    "                  #metric = 'canberra', \n",
    "                  #metric = 'chebyshev', \n",
    "                  #metric = 'cityblock', \n",
    "                  metric = 'correlation', \n",
    "                  #metric = 'cosine', \n",
    "                  #metric = 'euclidean', \n",
    "                  #metric = 'hamming', \n",
    "                  #metric = 'jaccard', \n",
    "                  #method= 'single')\n",
    "                  method = 'average')\n",
    "                  #method= 'complete')\n",
    "                  #method='weighted')\n",
    "#dendrogram(result1, labels = list(df.iloc[:, 0:1]))\n",
    "#plt.figure(figsize=(8, 8))\n",
    "dendrogram(result1, orientation='right', labels=list(df.columns), color_threshold=0.05)\n",
    "plt.title(\"Dedrogram\")\n",
    "plt.xlabel(\"Threshold\")\n",
    "plt.grid()\n",
    "plt.show()"
   ]
  },
  {
   "cell_type": "code",
   "execution_count": null,
   "metadata": {
    "collapsed": false
   },
   "outputs": [],
   "source": [
    "# metric は色々あるので、ケースバイケースでどれかひとつ好きなものを選ぶ。\n",
    "# method も色々あるので、ケースバイケースでどれかひとつ好きなものを選ぶ。\n",
    "#y_labels.append(\"1\")\n",
    "from scipy.cluster.hierarchy import linkage, dendrogram\n",
    "result1 = linkage(dfs.T.iloc[:, :], \n",
    "                  #metric = 'braycurtis', \n",
    "                  #metric = 'canberra', \n",
    "                  #metric = 'chebyshev', \n",
    "                  #metric = 'cityblock', \n",
    "                  #metric = 'correlation', \n",
    "                  #metric = 'cosine', \n",
    "                  metric = 'euclidean', \n",
    "                  #metric = 'hamming', \n",
    "                  #metric = 'jaccard', \n",
    "                  #method= 'single')\n",
    "                  #method = 'average')\n",
    "                  #method= 'complete')\n",
    "                  method='weighted')\n",
    "#dendrogram(result1, labels = list(df.iloc[:, 0:1]))\n",
    "#plt.figure(figsize=(8, 8))\n",
    "dendrogram(result1, orientation='right', labels=list(df.columns), color_threshold=0.05)\n",
    "plt.title(\"Dedrogram\")\n",
    "plt.xlabel(\"Threshold\")\n",
    "plt.grid()\n",
    "plt.show()"
   ]
  },
  {
   "cell_type": "markdown",
   "metadata": {},
   "source": [
    "上記の例では、方法を変えても同じような形のデンドログラムが生じたので、都道府県ごとの消費量を元にした「酒類間の類似関係」はクラスタリング方法の違いによらず一定の解釈ができそうである。"
   ]
  }
 ],
 "metadata": {
  "kernelspec": {
   "display_name": "Python 3",
   "language": "python",
   "name": "python3"
  },
  "language_info": {
   "codemirror_mode": {
    "name": "ipython",
    "version": 3
   },
   "file_extension": ".py",
   "mimetype": "text/x-python",
   "name": "python",
   "nbconvert_exporter": "python",
   "pygments_lexer": "ipython3",
   "version": "3.4.5"
  }
 },
 "nbformat": 4,
 "nbformat_minor": 2
}
