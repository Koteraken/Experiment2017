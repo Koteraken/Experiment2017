{
 "cells": [
  {
   "cell_type": "markdown",
   "metadata": {},
   "source": [
    "# Pandas を用いた演算"
   ]
  },
  {
   "cell_type": "code",
   "execution_count": null,
   "metadata": {
    "collapsed": true
   },
   "outputs": [],
   "source": [
    "# データフレーム操作に関するライブラリをインポートする\n",
    "import pandas as pd"
   ]
  },
  {
   "cell_type": "markdown",
   "metadata": {},
   "source": [
    "## まずは Pandas の基本操作から"
   ]
  },
  {
   "cell_type": "code",
   "execution_count": null,
   "metadata": {
    "collapsed": false
   },
   "outputs": [],
   "source": [
    "df = pd.DataFrame([[100, -20, -60, -20, 100, 300, 580, 940, 1380, 1900],\n",
    " [92, -24, -60, -16, 108, 312, 596, 960, 1404, 1928],\n",
    " [84, -28, -60, -12, 116, 324, 612, 980, 1428, 1956],\n",
    " [77, -31, -59, -7, 125, 337, 629, 1001, 1453, 1985],\n",
    " [70, -34, -58, -2, 134, 350, 646, 1022, 1478, 2014],\n",
    " [62, -38, -58, 2, 142, 362, 662, 1042, 1502, 2042],\n",
    " [56, -40, -56, 8, 152, 376, 680, 1064, 1528, 2072],\n",
    " [49, -43, -55, 13, 161, 389, 697, 1085, 1553, 2101],\n",
    " [42, -46, -54, 18, 170, 402, 714, 1106, 1578, 2130],\n",
    " [36, -48, -52, 24, 180, 416, 732, 1128, 1604, 2160],\n",
    " [30, -50, -50, 30, 190, 430, 750, 1150, 1630, 2190],\n",
    " [24, -52, -48, 36, 200, 444, 768, 1172, 1656, 2220],\n",
    " [18, -54, -46, 42, 210, 458, 786, 1194, 1682, 2250],\n",
    " [13, -55, -43, 49, 221, 473, 805, 1217, 1709, 2281],\n",
    " [8, -56, -40, 56, 232, 488, 824, 1240, 1736, 2312],\n",
    " [2, -58, -38, 62, 242, 502, 842, 1262, 1762, 2342],\n",
    " [-2, -58, -34, 70, 254, 518, 862, 1286, 1790, 2374],\n",
    " [-7, -59, -31, 77, 265, 533, 881, 1309, 1817, 2405],\n",
    " [-12, -60, -28, 84, 276, 548, 900, 1332, 1844, 2436],\n",
    " [-16, -60, -24, 92, 288, 564, 920, 1356, 1872, 2468]],\n",
    "                   index = list(\"abcdefghijklmnopqrst\"),\n",
    "                   columns = list(\"ABCDEFGHIJ\"))"
   ]
  },
  {
   "cell_type": "code",
   "execution_count": null,
   "metadata": {
    "collapsed": false
   },
   "outputs": [],
   "source": [
    "df #データの中身を確認"
   ]
  },
  {
   "cell_type": "code",
   "execution_count": null,
   "metadata": {
    "collapsed": false
   },
   "outputs": [],
   "source": [
    "df.head() #最初の数レコードだけ確認"
   ]
  },
  {
   "cell_type": "code",
   "execution_count": null,
   "metadata": {
    "collapsed": false
   },
   "outputs": [],
   "source": [
    "df.iloc[10:20, 5:9] # 指定した行、指定した列だけ抜き出す"
   ]
  },
  {
   "cell_type": "code",
   "execution_count": null,
   "metadata": {
    "collapsed": false
   },
   "outputs": [],
   "source": [
    "df.iloc[:, 5:] # 指定した行、指定した列だけ抜き出す"
   ]
  },
  {
   "cell_type": "code",
   "execution_count": null,
   "metadata": {
    "collapsed": false
   },
   "outputs": [],
   "source": [
    "df.iloc[[1, 3, 5, 7, 9], [2, 4, 6, 8]] # 指定した行、指定した列だけ抜き出す"
   ]
  },
  {
   "cell_type": "code",
   "execution_count": null,
   "metadata": {
    "collapsed": false
   },
   "outputs": [],
   "source": [
    "df.T # 転置"
   ]
  },
  {
   "cell_type": "code",
   "execution_count": null,
   "metadata": {
    "collapsed": false
   },
   "outputs": [],
   "source": [
    "df.iloc[[1, 3, 5, 7, 9], [2, 4, 6, 8]].T # 指定した行・列だけ抜き出してから転置"
   ]
  },
  {
   "cell_type": "code",
   "execution_count": null,
   "metadata": {
    "collapsed": false
   },
   "outputs": [],
   "source": [
    "df.T.iloc[[1, 3, 5, 7, 9], [2, 4, 6, 8]] #　転置してから指定した行・列だけ抜き出す"
   ]
  },
  {
   "cell_type": "markdown",
   "metadata": {},
   "source": [
    "## 簡単な統計量"
   ]
  },
  {
   "cell_type": "code",
   "execution_count": null,
   "metadata": {
    "collapsed": false
   },
   "outputs": [],
   "source": [
    "# 基本統計量の表示\n",
    "df.describe()"
   ]
  },
  {
   "cell_type": "code",
   "execution_count": null,
   "metadata": {
    "collapsed": false
   },
   "outputs": [],
   "source": [
    "# 基本統計量の表示\n",
    "df.T.describe()"
   ]
  },
  {
   "cell_type": "markdown",
   "metadata": {},
   "source": [
    "## 行列の正規化（標準化）\n",
    "\n",
    "正規化 (normalize) とは、異なる基準のデータを一定の基準にしたがって変形し利用しやすくすることです。"
   ]
  },
  {
   "cell_type": "code",
   "execution_count": null,
   "metadata": {
    "collapsed": false
   },
   "outputs": [],
   "source": [
    "# 一般的には平均 0 、分散 (及び標準偏差) が 1 になるように値を変換することを指します。\n",
    "# axis=1 とすれば、列ではなく行単位で正規化します。\n",
    "df.apply(lambda x: (x-x.mean())/x.std(), axis=0)"
   ]
  },
  {
   "cell_type": "code",
   "execution_count": null,
   "metadata": {
    "collapsed": false
   },
   "outputs": [],
   "source": [
    "# 最大値を1、最小値を0にするような正規化もできます。\n",
    "# axis=1 とすれば、列ではなく行単位で正規化します。\n",
    "df.apply(lambda x: (x-x.min())/(x.max() - x.min()), axis=0)"
   ]
  },
  {
   "cell_type": "code",
   "execution_count": null,
   "metadata": {
    "collapsed": false
   },
   "outputs": [],
   "source": [
    "# 合計値が１になるような正規化もできます。\n",
    "# axis=1 とすれば、列ではなく行単位で正規化します。\n",
    "df.apply(lambda x: x/x.sum(), axis=0)"
   ]
  },
  {
   "cell_type": "markdown",
   "metadata": {
    "collapsed": true
   },
   "source": [
    "## 相関行列\n",
    "\n",
    "相関行列とは、各要素間の相関係数を並べたものであり、その性質から必ず対称行列である。"
   ]
  },
  {
   "cell_type": "code",
   "execution_count": null,
   "metadata": {
    "collapsed": false
   },
   "outputs": [],
   "source": [
    "df.corr()"
   ]
  },
  {
   "cell_type": "code",
   "execution_count": null,
   "metadata": {
    "collapsed": false
   },
   "outputs": [],
   "source": [
    "df.T.corr()"
   ]
  },
  {
   "cell_type": "markdown",
   "metadata": {},
   "source": [
    "## ある条件でレコードをクラス分けする"
   ]
  },
  {
   "cell_type": "code",
   "execution_count": null,
   "metadata": {
    "collapsed": false
   },
   "outputs": [],
   "source": [
    "df['D'] < 30 # ある条件"
   ]
  },
  {
   "cell_type": "code",
   "execution_count": null,
   "metadata": {
    "collapsed": false
   },
   "outputs": [],
   "source": [
    "df[df['D'] < 30] # ある条件を満たす行だけ抜き出す"
   ]
  },
  {
   "cell_type": "code",
   "execution_count": null,
   "metadata": {
    "collapsed": true
   },
   "outputs": [],
   "source": [
    "# classという名の列を作り、ある基準を満たしていれば 1 を、そうでなければ 0 を入れる\n",
    "df['class'] = [1 if i < 30 else 0 for i in df['D'].tolist()]"
   ]
  },
  {
   "cell_type": "code",
   "execution_count": null,
   "metadata": {
    "collapsed": false
   },
   "outputs": [],
   "source": [
    "df #データの中身を確認"
   ]
  }
 ],
 "metadata": {
  "kernelspec": {
   "display_name": "Python 3",
   "language": "python",
   "name": "python3"
  },
  "language_info": {
   "codemirror_mode": {
    "name": "ipython",
    "version": 3
   },
   "file_extension": ".py",
   "mimetype": "text/x-python",
   "name": "python",
   "nbconvert_exporter": "python",
   "pygments_lexer": "ipython3",
   "version": "3.4.5"
  }
 },
 "nbformat": 4,
 "nbformat_minor": 2
}
